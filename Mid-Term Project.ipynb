{
 "cells": [
  {
   "cell_type": "markdown",
   "id": "7ef661bd",
   "metadata": {},
   "source": [
    "# Mid-Term Project "
   ]
  },
  {
   "cell_type": "markdown",
   "id": "30bde152",
   "metadata": {},
   "source": [
    "The following code provides the entire exploratoratory data analysis, metrics, training and selecting the best models, exporting the models from the jupyter notebook and deploying the service tothe cloud"
   ]
  },
  {
   "cell_type": "markdown",
   "id": "5e5482a1",
   "metadata": {},
   "source": [
    "-------- Problem Statement ------\n",
    "\n",
    "Amazon has data on the 50 best sellers from 2009 to 2019. The company would like to have more insights about their customers through data visualizations and a model to predict user rating of a book. Amazon hopes to build a simple model that will help inform about customer behaviour through the rating of these best sellers."
   ]
  },
  {
   "cell_type": "markdown",
   "id": "a0928569",
   "metadata": {},
   "source": [
    "The first step is to import libraries that will be commonly used at all sections of our analyses"
   ]
  },
  {
   "cell_type": "code",
   "execution_count": 76,
   "id": "d71f5730",
   "metadata": {},
   "outputs": [],
   "source": [
    "#import pandas as pd and numpy as np"
   ]
  },
  {
   "cell_type": "code",
   "execution_count": 77,
   "id": "e06126b0",
   "metadata": {},
   "outputs": [],
   "source": [
    "import pandas as pd\n",
    "import numpy as np"
   ]
  },
  {
   "cell_type": "code",
   "execution_count": 78,
   "id": "5d3fac13",
   "metadata": {},
   "outputs": [],
   "source": [
    "#import matlab and seaborn plotting libraries, activate inline plotting using %inline"
   ]
  },
  {
   "cell_type": "code",
   "execution_count": 79,
   "id": "2e5c2230",
   "metadata": {},
   "outputs": [],
   "source": [
    "import seaborn as sns\n",
    "from matplotlib import pyplot as plt\n",
    "%matplotlib inline"
   ]
  },
  {
   "cell_type": "code",
   "execution_count": 80,
   "id": "dbb8dd1c",
   "metadata": {},
   "outputs": [],
   "source": [
    "#Source of the data on kaggle, more information can be obtained from this link: https://www.kaggle.com/sootersaalu/amazon-top-50-bestselling-books-2009-2019"
   ]
  },
  {
   "cell_type": "code",
   "execution_count": 81,
   "id": "96359c21",
   "metadata": {},
   "outputs": [],
   "source": [
    "#Use pandas to read 'csv' file of the data and store it to a variable called 'df'"
   ]
  },
  {
   "cell_type": "code",
   "execution_count": 82,
   "id": "a254ec8d",
   "metadata": {},
   "outputs": [],
   "source": [
    "df = pd.read_csv('data_kaggle.csv')"
   ]
  },
  {
   "cell_type": "code",
   "execution_count": 83,
   "id": "0d8980a4",
   "metadata": {},
   "outputs": [],
   "source": [
    "##Exploratory Data Analysis"
   ]
  },
  {
   "cell_type": "code",
   "execution_count": 84,
   "id": "050af2e3",
   "metadata": {},
   "outputs": [],
   "source": [
    "#inspect headers and rows of the data"
   ]
  },
  {
   "cell_type": "code",
   "execution_count": 85,
   "id": "261a5e70",
   "metadata": {},
   "outputs": [
    {
     "data": {
      "text/html": [
       "<div>\n",
       "<style scoped>\n",
       "    .dataframe tbody tr th:only-of-type {\n",
       "        vertical-align: middle;\n",
       "    }\n",
       "\n",
       "    .dataframe tbody tr th {\n",
       "        vertical-align: top;\n",
       "    }\n",
       "\n",
       "    .dataframe thead th {\n",
       "        text-align: right;\n",
       "    }\n",
       "</style>\n",
       "<table border=\"1\" class=\"dataframe\">\n",
       "  <thead>\n",
       "    <tr style=\"text-align: right;\">\n",
       "      <th></th>\n",
       "      <th>Name</th>\n",
       "      <th>Author</th>\n",
       "      <th>User Rating</th>\n",
       "      <th>Reviews</th>\n",
       "      <th>Price</th>\n",
       "      <th>Year</th>\n",
       "      <th>Genre</th>\n",
       "    </tr>\n",
       "  </thead>\n",
       "  <tbody>\n",
       "    <tr>\n",
       "      <th>0</th>\n",
       "      <td>10-Day Green Smoothie Cleanse</td>\n",
       "      <td>JJ Smith</td>\n",
       "      <td>4.7</td>\n",
       "      <td>17350</td>\n",
       "      <td>8</td>\n",
       "      <td>2016</td>\n",
       "      <td>Non Fiction</td>\n",
       "    </tr>\n",
       "    <tr>\n",
       "      <th>1</th>\n",
       "      <td>11/22/63: A Novel</td>\n",
       "      <td>Stephen King</td>\n",
       "      <td>4.6</td>\n",
       "      <td>2052</td>\n",
       "      <td>22</td>\n",
       "      <td>2011</td>\n",
       "      <td>Fiction</td>\n",
       "    </tr>\n",
       "    <tr>\n",
       "      <th>2</th>\n",
       "      <td>12 Rules for Life: An Antidote to Chaos</td>\n",
       "      <td>Jordan B. Peterson</td>\n",
       "      <td>4.7</td>\n",
       "      <td>18979</td>\n",
       "      <td>15</td>\n",
       "      <td>2018</td>\n",
       "      <td>Non Fiction</td>\n",
       "    </tr>\n",
       "    <tr>\n",
       "      <th>3</th>\n",
       "      <td>1984 (Signet Classics)</td>\n",
       "      <td>George Orwell</td>\n",
       "      <td>4.7</td>\n",
       "      <td>21424</td>\n",
       "      <td>6</td>\n",
       "      <td>2017</td>\n",
       "      <td>Fiction</td>\n",
       "    </tr>\n",
       "    <tr>\n",
       "      <th>4</th>\n",
       "      <td>5,000 Awesome Facts (About Everything!) (Natio...</td>\n",
       "      <td>National Geographic Kids</td>\n",
       "      <td>4.8</td>\n",
       "      <td>7665</td>\n",
       "      <td>12</td>\n",
       "      <td>2019</td>\n",
       "      <td>Non Fiction</td>\n",
       "    </tr>\n",
       "    <tr>\n",
       "      <th>...</th>\n",
       "      <td>...</td>\n",
       "      <td>...</td>\n",
       "      <td>...</td>\n",
       "      <td>...</td>\n",
       "      <td>...</td>\n",
       "      <td>...</td>\n",
       "      <td>...</td>\n",
       "    </tr>\n",
       "    <tr>\n",
       "      <th>545</th>\n",
       "      <td>Wrecking Ball (Diary of a Wimpy Kid Book 14)</td>\n",
       "      <td>Jeff Kinney</td>\n",
       "      <td>4.9</td>\n",
       "      <td>9413</td>\n",
       "      <td>8</td>\n",
       "      <td>2019</td>\n",
       "      <td>Fiction</td>\n",
       "    </tr>\n",
       "    <tr>\n",
       "      <th>546</th>\n",
       "      <td>You Are a Badass: How to Stop Doubting Your Gr...</td>\n",
       "      <td>Jen Sincero</td>\n",
       "      <td>4.7</td>\n",
       "      <td>14331</td>\n",
       "      <td>8</td>\n",
       "      <td>2016</td>\n",
       "      <td>Non Fiction</td>\n",
       "    </tr>\n",
       "    <tr>\n",
       "      <th>547</th>\n",
       "      <td>You Are a Badass: How to Stop Doubting Your Gr...</td>\n",
       "      <td>Jen Sincero</td>\n",
       "      <td>4.7</td>\n",
       "      <td>14331</td>\n",
       "      <td>8</td>\n",
       "      <td>2017</td>\n",
       "      <td>Non Fiction</td>\n",
       "    </tr>\n",
       "    <tr>\n",
       "      <th>548</th>\n",
       "      <td>You Are a Badass: How to Stop Doubting Your Gr...</td>\n",
       "      <td>Jen Sincero</td>\n",
       "      <td>4.7</td>\n",
       "      <td>14331</td>\n",
       "      <td>8</td>\n",
       "      <td>2018</td>\n",
       "      <td>Non Fiction</td>\n",
       "    </tr>\n",
       "    <tr>\n",
       "      <th>549</th>\n",
       "      <td>You Are a Badass: How to Stop Doubting Your Gr...</td>\n",
       "      <td>Jen Sincero</td>\n",
       "      <td>4.7</td>\n",
       "      <td>14331</td>\n",
       "      <td>8</td>\n",
       "      <td>2019</td>\n",
       "      <td>Non Fiction</td>\n",
       "    </tr>\n",
       "  </tbody>\n",
       "</table>\n",
       "<p>550 rows × 7 columns</p>\n",
       "</div>"
      ],
      "text/plain": [
       "                                                  Name  \\\n",
       "0                        10-Day Green Smoothie Cleanse   \n",
       "1                                    11/22/63: A Novel   \n",
       "2              12 Rules for Life: An Antidote to Chaos   \n",
       "3                               1984 (Signet Classics)   \n",
       "4    5,000 Awesome Facts (About Everything!) (Natio...   \n",
       "..                                                 ...   \n",
       "545       Wrecking Ball (Diary of a Wimpy Kid Book 14)   \n",
       "546  You Are a Badass: How to Stop Doubting Your Gr...   \n",
       "547  You Are a Badass: How to Stop Doubting Your Gr...   \n",
       "548  You Are a Badass: How to Stop Doubting Your Gr...   \n",
       "549  You Are a Badass: How to Stop Doubting Your Gr...   \n",
       "\n",
       "                       Author  User Rating  Reviews  Price  Year        Genre  \n",
       "0                    JJ Smith          4.7    17350      8  2016  Non Fiction  \n",
       "1                Stephen King          4.6     2052     22  2011      Fiction  \n",
       "2          Jordan B. Peterson          4.7    18979     15  2018  Non Fiction  \n",
       "3               George Orwell          4.7    21424      6  2017      Fiction  \n",
       "4    National Geographic Kids          4.8     7665     12  2019  Non Fiction  \n",
       "..                        ...          ...      ...    ...   ...          ...  \n",
       "545               Jeff Kinney          4.9     9413      8  2019      Fiction  \n",
       "546               Jen Sincero          4.7    14331      8  2016  Non Fiction  \n",
       "547               Jen Sincero          4.7    14331      8  2017  Non Fiction  \n",
       "548               Jen Sincero          4.7    14331      8  2018  Non Fiction  \n",
       "549               Jen Sincero          4.7    14331      8  2019  Non Fiction  \n",
       "\n",
       "[550 rows x 7 columns]"
      ]
     },
     "execution_count": 85,
     "metadata": {},
     "output_type": "execute_result"
    }
   ],
   "source": [
    "df"
   ]
  },
  {
   "cell_type": "code",
   "execution_count": 86,
   "id": "82b2334f",
   "metadata": {},
   "outputs": [],
   "source": [
    "#inspect the data types for each column  "
   ]
  },
  {
   "cell_type": "code",
   "execution_count": 87,
   "id": "6cc52f65",
   "metadata": {
    "scrolled": true
   },
   "outputs": [
    {
     "name": "stdout",
     "output_type": "stream",
     "text": [
      "<class 'pandas.core.frame.DataFrame'>\n",
      "RangeIndex: 550 entries, 0 to 549\n",
      "Data columns (total 7 columns):\n",
      " #   Column       Non-Null Count  Dtype  \n",
      "---  ------       --------------  -----  \n",
      " 0   Name         550 non-null    object \n",
      " 1   Author       550 non-null    object \n",
      " 2   User Rating  550 non-null    float64\n",
      " 3   Reviews      550 non-null    int64  \n",
      " 4   Price        550 non-null    int64  \n",
      " 5   Year         550 non-null    int64  \n",
      " 6   Genre        550 non-null    object \n",
      "dtypes: float64(1), int64(3), object(3)\n",
      "memory usage: 30.2+ KB\n"
     ]
    }
   ],
   "source": [
    "df.info()"
   ]
  },
  {
   "cell_type": "markdown",
   "id": "1b3113b6",
   "metadata": {},
   "source": [
    "Before we can use our data, its important to have column names of similar form, remove spaces in headers and check data for spaces and special characters that may hinder accessing the data or hinder analysis"
   ]
  },
  {
   "cell_type": "code",
   "execution_count": 88,
   "id": "de5c7c27",
   "metadata": {},
   "outputs": [],
   "source": [
    "#change all headers to lower case and replace spaces with '_'"
   ]
  },
  {
   "cell_type": "code",
   "execution_count": 89,
   "id": "281f72d3",
   "metadata": {},
   "outputs": [],
   "source": [
    "df.columns = df.columns.str.lower().str.replace(' ', '_')"
   ]
  },
  {
   "cell_type": "code",
   "execution_count": 90,
   "id": "584a036a",
   "metadata": {},
   "outputs": [
    {
     "data": {
      "text/plain": [
       "Index(['name', 'author', 'user_rating', 'reviews', 'price', 'year', 'genre'], dtype='object')"
      ]
     },
     "execution_count": 90,
     "metadata": {},
     "output_type": "execute_result"
    }
   ],
   "source": [
    "df.columns"
   ]
  },
  {
   "cell_type": "code",
   "execution_count": 91,
   "id": "a54f68f3",
   "metadata": {},
   "outputs": [],
   "source": [
    "#identify data of type object and change the entries to lower case, replace spaces with '_'"
   ]
  },
  {
   "cell_type": "code",
   "execution_count": 92,
   "id": "ab1dbef1",
   "metadata": {},
   "outputs": [
    {
     "data": {
      "text/plain": [
       "name            True\n",
       "author          True\n",
       "user_rating    False\n",
       "reviews        False\n",
       "price          False\n",
       "year           False\n",
       "genre           True\n",
       "dtype: bool"
      ]
     },
     "execution_count": 92,
     "metadata": {},
     "output_type": "execute_result"
    }
   ],
   "source": [
    "df.dtypes == 'object'"
   ]
  },
  {
   "cell_type": "code",
   "execution_count": 93,
   "id": "11e02304",
   "metadata": {
    "scrolled": true
   },
   "outputs": [
    {
     "data": {
      "text/html": [
       "<div>\n",
       "<style scoped>\n",
       "    .dataframe tbody tr th:only-of-type {\n",
       "        vertical-align: middle;\n",
       "    }\n",
       "\n",
       "    .dataframe tbody tr th {\n",
       "        vertical-align: top;\n",
       "    }\n",
       "\n",
       "    .dataframe thead th {\n",
       "        text-align: right;\n",
       "    }\n",
       "</style>\n",
       "<table border=\"1\" class=\"dataframe\">\n",
       "  <thead>\n",
       "    <tr style=\"text-align: right;\">\n",
       "      <th></th>\n",
       "      <th>name</th>\n",
       "      <th>author</th>\n",
       "      <th>user_rating</th>\n",
       "      <th>reviews</th>\n",
       "      <th>price</th>\n",
       "      <th>year</th>\n",
       "      <th>genre</th>\n",
       "    </tr>\n",
       "  </thead>\n",
       "  <tbody>\n",
       "    <tr>\n",
       "      <th>0</th>\n",
       "      <td>10-Day Green Smoothie Cleanse</td>\n",
       "      <td>JJ Smith</td>\n",
       "      <td>4.7</td>\n",
       "      <td>17350</td>\n",
       "      <td>8</td>\n",
       "      <td>2016</td>\n",
       "      <td>Non Fiction</td>\n",
       "    </tr>\n",
       "    <tr>\n",
       "      <th>1</th>\n",
       "      <td>11/22/63: A Novel</td>\n",
       "      <td>Stephen King</td>\n",
       "      <td>4.6</td>\n",
       "      <td>2052</td>\n",
       "      <td>22</td>\n",
       "      <td>2011</td>\n",
       "      <td>Fiction</td>\n",
       "    </tr>\n",
       "    <tr>\n",
       "      <th>2</th>\n",
       "      <td>12 Rules for Life: An Antidote to Chaos</td>\n",
       "      <td>Jordan B. Peterson</td>\n",
       "      <td>4.7</td>\n",
       "      <td>18979</td>\n",
       "      <td>15</td>\n",
       "      <td>2018</td>\n",
       "      <td>Non Fiction</td>\n",
       "    </tr>\n",
       "    <tr>\n",
       "      <th>3</th>\n",
       "      <td>1984 (Signet Classics)</td>\n",
       "      <td>George Orwell</td>\n",
       "      <td>4.7</td>\n",
       "      <td>21424</td>\n",
       "      <td>6</td>\n",
       "      <td>2017</td>\n",
       "      <td>Fiction</td>\n",
       "    </tr>\n",
       "    <tr>\n",
       "      <th>4</th>\n",
       "      <td>5,000 Awesome Facts (About Everything!) (Natio...</td>\n",
       "      <td>National Geographic Kids</td>\n",
       "      <td>4.8</td>\n",
       "      <td>7665</td>\n",
       "      <td>12</td>\n",
       "      <td>2019</td>\n",
       "      <td>Non Fiction</td>\n",
       "    </tr>\n",
       "    <tr>\n",
       "      <th>...</th>\n",
       "      <td>...</td>\n",
       "      <td>...</td>\n",
       "      <td>...</td>\n",
       "      <td>...</td>\n",
       "      <td>...</td>\n",
       "      <td>...</td>\n",
       "      <td>...</td>\n",
       "    </tr>\n",
       "    <tr>\n",
       "      <th>545</th>\n",
       "      <td>Wrecking Ball (Diary of a Wimpy Kid Book 14)</td>\n",
       "      <td>Jeff Kinney</td>\n",
       "      <td>4.9</td>\n",
       "      <td>9413</td>\n",
       "      <td>8</td>\n",
       "      <td>2019</td>\n",
       "      <td>Fiction</td>\n",
       "    </tr>\n",
       "    <tr>\n",
       "      <th>546</th>\n",
       "      <td>You Are a Badass: How to Stop Doubting Your Gr...</td>\n",
       "      <td>Jen Sincero</td>\n",
       "      <td>4.7</td>\n",
       "      <td>14331</td>\n",
       "      <td>8</td>\n",
       "      <td>2016</td>\n",
       "      <td>Non Fiction</td>\n",
       "    </tr>\n",
       "    <tr>\n",
       "      <th>547</th>\n",
       "      <td>You Are a Badass: How to Stop Doubting Your Gr...</td>\n",
       "      <td>Jen Sincero</td>\n",
       "      <td>4.7</td>\n",
       "      <td>14331</td>\n",
       "      <td>8</td>\n",
       "      <td>2017</td>\n",
       "      <td>Non Fiction</td>\n",
       "    </tr>\n",
       "    <tr>\n",
       "      <th>548</th>\n",
       "      <td>You Are a Badass: How to Stop Doubting Your Gr...</td>\n",
       "      <td>Jen Sincero</td>\n",
       "      <td>4.7</td>\n",
       "      <td>14331</td>\n",
       "      <td>8</td>\n",
       "      <td>2018</td>\n",
       "      <td>Non Fiction</td>\n",
       "    </tr>\n",
       "    <tr>\n",
       "      <th>549</th>\n",
       "      <td>You Are a Badass: How to Stop Doubting Your Gr...</td>\n",
       "      <td>Jen Sincero</td>\n",
       "      <td>4.7</td>\n",
       "      <td>14331</td>\n",
       "      <td>8</td>\n",
       "      <td>2019</td>\n",
       "      <td>Non Fiction</td>\n",
       "    </tr>\n",
       "  </tbody>\n",
       "</table>\n",
       "<p>550 rows × 7 columns</p>\n",
       "</div>"
      ],
      "text/plain": [
       "                                                  name  \\\n",
       "0                        10-Day Green Smoothie Cleanse   \n",
       "1                                    11/22/63: A Novel   \n",
       "2              12 Rules for Life: An Antidote to Chaos   \n",
       "3                               1984 (Signet Classics)   \n",
       "4    5,000 Awesome Facts (About Everything!) (Natio...   \n",
       "..                                                 ...   \n",
       "545       Wrecking Ball (Diary of a Wimpy Kid Book 14)   \n",
       "546  You Are a Badass: How to Stop Doubting Your Gr...   \n",
       "547  You Are a Badass: How to Stop Doubting Your Gr...   \n",
       "548  You Are a Badass: How to Stop Doubting Your Gr...   \n",
       "549  You Are a Badass: How to Stop Doubting Your Gr...   \n",
       "\n",
       "                       author  user_rating  reviews  price  year        genre  \n",
       "0                    JJ Smith          4.7    17350      8  2016  Non Fiction  \n",
       "1                Stephen King          4.6     2052     22  2011      Fiction  \n",
       "2          Jordan B. Peterson          4.7    18979     15  2018  Non Fiction  \n",
       "3               George Orwell          4.7    21424      6  2017      Fiction  \n",
       "4    National Geographic Kids          4.8     7665     12  2019  Non Fiction  \n",
       "..                        ...          ...      ...    ...   ...          ...  \n",
       "545               Jeff Kinney          4.9     9413      8  2019      Fiction  \n",
       "546               Jen Sincero          4.7    14331      8  2016  Non Fiction  \n",
       "547               Jen Sincero          4.7    14331      8  2017  Non Fiction  \n",
       "548               Jen Sincero          4.7    14331      8  2018  Non Fiction  \n",
       "549               Jen Sincero          4.7    14331      8  2019  Non Fiction  \n",
       "\n",
       "[550 rows x 7 columns]"
      ]
     },
     "execution_count": 93,
     "metadata": {},
     "output_type": "execute_result"
    }
   ],
   "source": [
    "df"
   ]
  },
  {
   "cell_type": "code",
   "execution_count": 94,
   "id": "6246fe30",
   "metadata": {},
   "outputs": [],
   "source": [
    "#Check the data for null entries"
   ]
  },
  {
   "cell_type": "code",
   "execution_count": 95,
   "id": "a1ab049e",
   "metadata": {},
   "outputs": [
    {
     "data": {
      "text/html": [
       "<div>\n",
       "<style scoped>\n",
       "    .dataframe tbody tr th:only-of-type {\n",
       "        vertical-align: middle;\n",
       "    }\n",
       "\n",
       "    .dataframe tbody tr th {\n",
       "        vertical-align: top;\n",
       "    }\n",
       "\n",
       "    .dataframe thead th {\n",
       "        text-align: right;\n",
       "    }\n",
       "</style>\n",
       "<table border=\"1\" class=\"dataframe\">\n",
       "  <thead>\n",
       "    <tr style=\"text-align: right;\">\n",
       "      <th></th>\n",
       "      <th>user_rating</th>\n",
       "      <th>reviews</th>\n",
       "      <th>price</th>\n",
       "      <th>year</th>\n",
       "    </tr>\n",
       "  </thead>\n",
       "  <tbody>\n",
       "    <tr>\n",
       "      <th>count</th>\n",
       "      <td>550.000000</td>\n",
       "      <td>550.000000</td>\n",
       "      <td>550.000000</td>\n",
       "      <td>550.000000</td>\n",
       "    </tr>\n",
       "    <tr>\n",
       "      <th>mean</th>\n",
       "      <td>4.618364</td>\n",
       "      <td>11953.281818</td>\n",
       "      <td>13.100000</td>\n",
       "      <td>2014.000000</td>\n",
       "    </tr>\n",
       "    <tr>\n",
       "      <th>std</th>\n",
       "      <td>0.226980</td>\n",
       "      <td>11731.132017</td>\n",
       "      <td>10.842262</td>\n",
       "      <td>3.165156</td>\n",
       "    </tr>\n",
       "    <tr>\n",
       "      <th>min</th>\n",
       "      <td>3.300000</td>\n",
       "      <td>37.000000</td>\n",
       "      <td>0.000000</td>\n",
       "      <td>2009.000000</td>\n",
       "    </tr>\n",
       "    <tr>\n",
       "      <th>25%</th>\n",
       "      <td>4.500000</td>\n",
       "      <td>4058.000000</td>\n",
       "      <td>7.000000</td>\n",
       "      <td>2011.000000</td>\n",
       "    </tr>\n",
       "    <tr>\n",
       "      <th>50%</th>\n",
       "      <td>4.700000</td>\n",
       "      <td>8580.000000</td>\n",
       "      <td>11.000000</td>\n",
       "      <td>2014.000000</td>\n",
       "    </tr>\n",
       "    <tr>\n",
       "      <th>75%</th>\n",
       "      <td>4.800000</td>\n",
       "      <td>17253.250000</td>\n",
       "      <td>16.000000</td>\n",
       "      <td>2017.000000</td>\n",
       "    </tr>\n",
       "    <tr>\n",
       "      <th>max</th>\n",
       "      <td>4.900000</td>\n",
       "      <td>87841.000000</td>\n",
       "      <td>105.000000</td>\n",
       "      <td>2019.000000</td>\n",
       "    </tr>\n",
       "  </tbody>\n",
       "</table>\n",
       "</div>"
      ],
      "text/plain": [
       "       user_rating       reviews       price         year\n",
       "count   550.000000    550.000000  550.000000   550.000000\n",
       "mean      4.618364  11953.281818   13.100000  2014.000000\n",
       "std       0.226980  11731.132017   10.842262     3.165156\n",
       "min       3.300000     37.000000    0.000000  2009.000000\n",
       "25%       4.500000   4058.000000    7.000000  2011.000000\n",
       "50%       4.700000   8580.000000   11.000000  2014.000000\n",
       "75%       4.800000  17253.250000   16.000000  2017.000000\n",
       "max       4.900000  87841.000000  105.000000  2019.000000"
      ]
     },
     "execution_count": 95,
     "metadata": {},
     "output_type": "execute_result"
    }
   ],
   "source": [
    "df.describe()"
   ]
  },
  {
   "cell_type": "code",
   "execution_count": 96,
   "id": "a2c30469",
   "metadata": {
    "scrolled": true
   },
   "outputs": [
    {
     "data": {
      "text/plain": [
       "name           0\n",
       "author         0\n",
       "user_rating    0\n",
       "reviews        0\n",
       "price          0\n",
       "year           0\n",
       "genre          0\n",
       "dtype: int64"
      ]
     },
     "execution_count": 96,
     "metadata": {},
     "output_type": "execute_result"
    }
   ],
   "source": [
    "df.isnull().sum()"
   ]
  },
  {
   "cell_type": "markdown",
   "id": "86b9c8f1",
   "metadata": {},
   "source": [
    "The data has 4 columns of numeric values and 3 columns of categorical type. \n",
    "Data has no missing values"
   ]
  },
  {
   "cell_type": "code",
   "execution_count": 97,
   "id": "57609243",
   "metadata": {},
   "outputs": [],
   "source": [
    "#install and use missingno library to visualize missing data"
   ]
  },
  {
   "cell_type": "code",
   "execution_count": 98,
   "id": "c5955c7c",
   "metadata": {},
   "outputs": [
    {
     "name": "stdout",
     "output_type": "stream",
     "text": [
      "Requirement already satisfied: missingno in /home/zach/anaconda3/envs/ml-zoomcamp/lib/python3.8/site-packages (0.5.0)\n",
      "Requirement already satisfied: numpy in /home/zach/anaconda3/envs/ml-zoomcamp/lib/python3.8/site-packages (from missingno) (1.19.5)\n",
      "Requirement already satisfied: seaborn in /home/zach/anaconda3/envs/ml-zoomcamp/lib/python3.8/site-packages (from missingno) (0.11.2)\n",
      "Requirement already satisfied: matplotlib in /home/zach/anaconda3/envs/ml-zoomcamp/lib/python3.8/site-packages (from missingno) (3.4.2)\n",
      "Requirement already satisfied: scipy in /home/zach/anaconda3/envs/ml-zoomcamp/lib/python3.8/site-packages (from missingno) (1.7.1)\n",
      "Requirement already satisfied: python-dateutil>=2.7 in /home/zach/anaconda3/envs/ml-zoomcamp/lib/python3.8/site-packages (from matplotlib->missingno) (2.8.2)\n",
      "Requirement already satisfied: cycler>=0.10 in /home/zach/anaconda3/envs/ml-zoomcamp/lib/python3.8/site-packages (from matplotlib->missingno) (0.10.0)\n",
      "Requirement already satisfied: pyparsing>=2.2.1 in /home/zach/anaconda3/envs/ml-zoomcamp/lib/python3.8/site-packages (from matplotlib->missingno) (2.4.7)\n",
      "Requirement already satisfied: kiwisolver>=1.0.1 in /home/zach/anaconda3/envs/ml-zoomcamp/lib/python3.8/site-packages (from matplotlib->missingno) (1.3.1)\n",
      "Requirement already satisfied: pillow>=6.2.0 in /home/zach/anaconda3/envs/ml-zoomcamp/lib/python3.8/site-packages (from matplotlib->missingno) (8.3.1)\n",
      "Requirement already satisfied: six in /home/zach/anaconda3/envs/ml-zoomcamp/lib/python3.8/site-packages (from cycler>=0.10->matplotlib->missingno) (1.15.0)\n",
      "Requirement already satisfied: pandas>=0.23 in /home/zach/anaconda3/envs/ml-zoomcamp/lib/python3.8/site-packages (from seaborn->missingno) (1.3.3)\n",
      "Requirement already satisfied: pytz>=2017.3 in /home/zach/anaconda3/envs/ml-zoomcamp/lib/python3.8/site-packages (from pandas>=0.23->seaborn->missingno) (2021.3)\n",
      "Note: you may need to restart the kernel to use updated packages.\n"
     ]
    }
   ],
   "source": [
    "pip install missingno"
   ]
  },
  {
   "cell_type": "code",
   "execution_count": 99,
   "id": "7c584b69",
   "metadata": {},
   "outputs": [],
   "source": [
    "import missingno"
   ]
  },
  {
   "cell_type": "code",
   "execution_count": 100,
   "id": "9629841b",
   "metadata": {},
   "outputs": [
    {
     "name": "stderr",
     "output_type": "stream",
     "text": [
      "/home/zach/anaconda3/envs/ml-zoomcamp/lib/python3.8/site-packages/seaborn/matrix.py:305: UserWarning: Attempting to set identical left == right == 0 results in singular transformations; automatically expanding.\n",
      "  ax.set(xlim=(0, self.data.shape[1]), ylim=(0, self.data.shape[0]))\n",
      "/home/zach/anaconda3/envs/ml-zoomcamp/lib/python3.8/site-packages/seaborn/matrix.py:305: UserWarning: Attempting to set identical bottom == top == 0 results in singular transformations; automatically expanding.\n",
      "  ax.set(xlim=(0, self.data.shape[1]), ylim=(0, self.data.shape[0]))\n"
     ]
    },
    {
     "data": {
      "text/plain": [
       "<AxesSubplot:>"
      ]
     },
     "execution_count": 100,
     "metadata": {},
     "output_type": "execute_result"
    },
    {
     "data": {
      "image/png": "[encoded data removed]",
      "text/plain": [
       "<Figure size 360x360 with 2 Axes>"
      ]
     },
     "metadata": {
      "needs_background": "light"
     },
     "output_type": "display_data"
    }
   ],
   "source": [
    "missingno.heatmap(df, figsize=(5,5), fontsize=12 )"
   ]
  },
  {
   "cell_type": "code",
   "execution_count": 101,
   "id": "bd880e80",
   "metadata": {},
   "outputs": [
    {
     "data": {
      "text/plain": [
       "<AxesSubplot:>"
      ]
     },
     "execution_count": 101,
     "metadata": {},
     "output_type": "execute_result"
    },
    {
     "data": {
      "image/png": "[encoded data removed]",
      "text/plain": [
       "<Figure size 360x360 with 3 Axes>"
      ]
     },
     "metadata": {
      "needs_background": "light"
     },
     "output_type": "display_data"
    }
   ],
   "source": [
    "missingno.bar(df, color='g', figsize=(5,5), fontsize=12 )"
   ]
  },
  {
   "cell_type": "markdown",
   "id": "6ce74451",
   "metadata": {},
   "source": [
    "Conclusion: There are no missing values in our dataframe"
   ]
  },
  {
   "cell_type": "code",
   "execution_count": 102,
   "id": "2c94789d",
   "metadata": {},
   "outputs": [],
   "source": [
    "#Check for duplicates in categorical columns"
   ]
  },
  {
   "cell_type": "code",
   "execution_count": 103,
   "id": "6c2e0617",
   "metadata": {},
   "outputs": [],
   "source": [
    "data_type_cat_col = list(df.select_dtypes(exclude=('int64', 'float64')).columns)"
   ]
  },
  {
   "cell_type": "code",
   "execution_count": 104,
   "id": "0264573e",
   "metadata": {},
   "outputs": [
    {
     "data": {
      "text/plain": [
       "['name', 'author', 'genre']"
      ]
     },
     "execution_count": 104,
     "metadata": {},
     "output_type": "execute_result"
    }
   ],
   "source": [
    "data_type_cat_col"
   ]
  },
  {
   "cell_type": "code",
   "execution_count": 105,
   "id": "176aeef7",
   "metadata": {},
   "outputs": [
    {
     "name": "stdout",
     "output_type": "stream",
     "text": [
      "Columns with categorical entries: name, author, genre.\n"
     ]
    }
   ],
   "source": [
    "print(f\"Columns with categorical entries: {', '.join(data_type_cat_col)}.\")"
   ]
  },
  {
   "cell_type": "code",
   "execution_count": 106,
   "id": "6a2e1abf",
   "metadata": {},
   "outputs": [],
   "source": [
    "#loop through data_type_cat_col to check for duplicates in each column"
   ]
  },
  {
   "cell_type": "code",
   "execution_count": 107,
   "id": "eb34be30",
   "metadata": {},
   "outputs": [
    {
     "name": "stdout",
     "output_type": "stream",
     "text": [
      "name column contains duplicates.\n",
      "author column contains duplicates.\n",
      "genre column contains duplicates.\n"
     ]
    }
   ],
   "source": [
    "for col in data_type_cat_col:\n",
    "    if df[col].duplicated().any() == True:\n",
    "        print(f'{col} column contains duplicates.')\n",
    "    else:\n",
    "        print(f'{col} column has no duplicates.')"
   ]
  },
  {
   "cell_type": "markdown",
   "id": "0ce47698",
   "metadata": {},
   "source": [
    "categorical columns have duplicates, check for words in different cases or extra spaces "
   ]
  },
  {
   "cell_type": "code",
   "execution_count": 108,
   "id": "db911315",
   "metadata": {},
   "outputs": [],
   "source": [
    "#loop through each categorical column for typos"
   ]
  },
  {
   "cell_type": "code",
   "execution_count": 109,
   "id": "ddd2083f",
   "metadata": {},
   "outputs": [
    {
     "name": "stdout",
     "output_type": "stream",
     "text": [
      "Current count of name entries: 351 <-----> Crosschecking name entries: 350\n",
      "Current count of author entries: 248 <-----> Crosschecking author entries: 248\n",
      "Current count of genre entries: 2 <-----> Crosschecking genre entries: 2\n"
     ]
    }
   ],
   "source": [
    "for col in data_type_cat_col:\n",
    "    print(f'Current count of {col} entries: {len(set(df[col]))} <-----> Crosschecking {col} entries: {len(set(df[col].str.title().str.strip()))}')"
   ]
  },
  {
   "cell_type": "markdown",
   "id": "5aa58f71",
   "metadata": {},
   "source": [
    "There are entries with typos in the name column"
   ]
  },
  {
   "cell_type": "code",
   "execution_count": 117,
   "id": "97778975",
   "metadata": {},
   "outputs": [],
   "source": [
    "#correct the typing errors in the Name column"
   ]
  },
  {
   "cell_type": "code",
   "execution_count": 119,
   "id": "a5b511ba",
   "metadata": {},
   "outputs": [],
   "source": [
    "df.name = df.name.str.title().str.strip()"
   ]
  },
  {
   "cell_type": "code",
   "execution_count": 120,
   "id": "eb00252b",
   "metadata": {},
   "outputs": [],
   "source": [
    "#Cross check if correction has been applied to the name column using previous code"
   ]
  },
  {
   "cell_type": "code",
   "execution_count": 121,
   "id": "7cb12b66",
   "metadata": {
    "scrolled": true
   },
   "outputs": [
    {
     "name": "stdout",
     "output_type": "stream",
     "text": [
      "Current count of name entries: 350 <-----> Crosschecking name entries: 350\n",
      "Current count of author entries: 248 <-----> Crosschecking author entries: 248\n",
      "Current count of genre entries: 2 <-----> Crosschecking genre entries: 2\n"
     ]
    }
   ],
   "source": [
    "for col in data_type_cat_col:\n",
    "    print(f'Current count of {col} entries: {len(set(df[col]))} <-----> Crosschecking {col} entries: {len(set(df[col].str.title().str.strip()))}')"
   ]
  },
  {
   "cell_type": "markdown",
   "id": "18e7cebe",
   "metadata": {},
   "source": [
    "All entries have been corrected"
   ]
  },
  {
   "cell_type": "code",
   "execution_count": 110,
   "id": "77a95af3",
   "metadata": {},
   "outputs": [],
   "source": [
    "#Check authors for spelling mistakes and repetitions"
   ]
  },
  {
   "cell_type": "code",
   "execution_count": 123,
   "id": "1a344805",
   "metadata": {},
   "outputs": [],
   "source": [
    "#Install fuzzywuzzy library to string match names of repeated authors"
   ]
  },
  {
   "cell_type": "code",
   "execution_count": 122,
   "id": "9e206350",
   "metadata": {},
   "outputs": [
    {
     "name": "stdout",
     "output_type": "stream",
     "text": [
      "Collecting fuzzywuzzy\n",
      "  Downloading fuzzywuzzy-0.18.0-py2.py3-none-any.whl (18 kB)\n",
      "Installing collected packages: fuzzywuzzy\n",
      "Successfully installed fuzzywuzzy-0.18.0\n",
      "Note: you may need to restart the kernel to use updated packages.\n"
     ]
    }
   ],
   "source": [
    "pip install fuzzywuzzy"
   ]
  },
  {
   "cell_type": "code",
   "execution_count": 124,
   "id": "a812f0b7",
   "metadata": {},
   "outputs": [
    {
     "name": "stderr",
     "output_type": "stream",
     "text": [
      "/home/zach/anaconda3/envs/ml-zoomcamp/lib/python3.8/site-packages/fuzzywuzzy/fuzz.py:11: UserWarning: Using slow pure-python SequenceMatcher. Install python-Levenshtein to remove this warning\n",
      "  warnings.warn('Using slow pure-python SequenceMatcher. Install python-Levenshtein to remove this warning')\n"
     ]
    }
   ],
   "source": [
    "from fuzzywuzzy import fuzz\n",
    "from fuzzywuzzy import process"
   ]
  },
  {
   "cell_type": "code",
   "execution_count": 129,
   "id": "d34be127",
   "metadata": {
    "scrolled": true
   },
   "outputs": [
    {
     "data": {
      "text/plain": [
       "[('George R.R. Martin', 100, 118),\n",
       " ('George R.R. Martin', 100, 119),\n",
       " ('George R.R. Martin', 100, 120),\n",
       " ('George R. R. Martin', 97, 5),\n",
       " ('George R. R. Martin', 97, 6)]"
      ]
     },
     "execution_count": 129,
     "metadata": {},
     "output_type": "execute_result"
    }
   ],
   "source": [
    "process.extract('George R.R. Martin', df.author, limit=5)"
   ]
  },
  {
   "cell_type": "code",
   "execution_count": 140,
   "id": "9b2c65aa",
   "metadata": {},
   "outputs": [
    {
     "data": {
      "text/plain": [
       "[('J.K. Rowling', 100, 102),\n",
       " ('J.K. Rowling', 100, 153),\n",
       " ('J.K. Rowling', 100, 154),\n",
       " ('J.K. Rowling', 100, 156),\n",
       " ('J.K. Rowling', 100, 157),\n",
       " ('J.K. Rowling', 100, 353),\n",
       " ('J. K. Rowling', 96, 155),\n",
       " ('J. K. Rowling', 96, 159),\n",
       " ('Jim Collins', 52, 139),\n",
       " ('Jim Collins', 52, 140)]"
      ]
     },
     "execution_count": 140,
     "metadata": {},
     "output_type": "execute_result"
    }
   ],
   "source": [
    "process.extract('J.K. Rowling', df.author, limit=10)"
   ]
  },
  {
   "cell_type": "markdown",
   "id": "84425d4e",
   "metadata": {},
   "source": [
    "Author names R.R. Martin and J.K. Rowling are repeated in the column author"
   ]
  },
  {
   "cell_type": "code",
   "execution_count": 133,
   "id": "f811cac4",
   "metadata": {},
   "outputs": [],
   "source": [
    "#Replace similar names with the correct name"
   ]
  },
  {
   "cell_type": "code",
   "execution_count": 141,
   "id": "fe4220d8",
   "metadata": {},
   "outputs": [],
   "source": [
    "df = df.replace('George R. R. Martin', 'George R.R. Martin')\n",
    "df = df.replace('J. K. Rowling', 'J.K. Rowling')"
   ]
  },
  {
   "cell_type": "code",
   "execution_count": 143,
   "id": "0338f312",
   "metadata": {},
   "outputs": [],
   "source": [
    "#Cross check entries for any repetitions"
   ]
  },
  {
   "cell_type": "code",
   "execution_count": 144,
   "id": "263a9efe",
   "metadata": {},
   "outputs": [
    {
     "name": "stdout",
     "output_type": "stream",
     "text": [
      "Current count of name entries: 350 <-----> Crosschecking name entries: 350\n",
      "Current count of author entries: 246 <-----> Crosschecking author entries: 246\n",
      "Current count of genre entries: 2 <-----> Crosschecking genre entries: 2\n"
     ]
    }
   ],
   "source": [
    "for col in data_type_cat_col:\n",
    "    print(f'Current count of {col} entries: {len(set(df[col]))} <-----> Crosschecking {col} entries: {len(set(df[col].str.title().str.strip()))}')"
   ]
  },
  {
   "cell_type": "code",
   "execution_count": 147,
   "id": "5440fc8b",
   "metadata": {},
   "outputs": [
    {
     "data": {
      "text/plain": [
       "array(['Abraham Verghese', 'Adam Gasiewski', 'Adam Mansbach', 'Adir Levy',\n",
       "       'Admiral William H. McRaven', 'Adult Coloring Book Designs',\n",
       "       'Alan Moore', 'Alex Michaelides', 'Alice Schertle', 'Allie Brosh',\n",
       "       'American Psychiatric Association',\n",
       "       'American Psychological Association', 'Amor Towles', 'Amy Ramos',\n",
       "       'Amy Shields', 'Andy Weir', 'Angie Grace', 'Angie Thomas',\n",
       "       'Ann Voskamp', 'Ann Whitford Paul', 'Anthony Bourdain',\n",
       "       'Anthony Doerr', 'Atul Gawande', 'Audrey Niffenegger',\n",
       "       'B. J. Novak', 'Bessel van der Kolk M.D.', 'Bill Martin Jr.',\n",
       "       \"Bill O'Reilly\", 'Bill Simmons', 'Blue Star Coloring',\n",
       "       'Bob Woodward', 'Brandon Stanton', 'Brené Brown',\n",
       "       'Brian Kilmeade', 'Bruce Springsteen', 'Carol S. Dweck',\n",
       "       'Celeste Ng', 'Charlaine Harris', 'Charles Duhigg',\n",
       "       'Charles Krauthammer', 'Cheryl Strayed', 'Chip Gaines',\n",
       "       'Chip Heath', 'Chris Cleave', 'Chris Kyle', 'Chrissy Teigen',\n",
       "       'Christina Baker Kline', 'Christopher Paolini',\n",
       "       'Coloring Books for Adults', 'Craig Smith', 'Crispin Boyer', 'DK',\n",
       "       'Dale Carnegie', 'Dan Brown', 'Daniel H. Pink',\n",
       "       'Daniel James Brown', 'Daniel Kahneman', 'Daniel Lipkowitz',\n",
       "       'Dav Pilkey', 'Dave Ramsey', 'David Goggins', 'David Grann',\n",
       "       'David McCullough', 'David Perlmutter MD', 'David Platt',\n",
       "       'David Zinczenko', 'Deborah Diesen',\n",
       "       'Delegates of the Constitutional\\x85', 'Delia Owens',\n",
       "       'Dinah Bucholz', 'Don Miguel Ruiz', 'Donna Tartt', 'Doug Lemov',\n",
       "       'Dr. Seuss', 'Dr. Steven R Gundry MD', 'Drew Daywalt', 'E L James',\n",
       "       'Eben Alexander', 'Edward Klein', 'Edward M. Kennedy',\n",
       "       'Elie Wiesel', 'Elizabeth Strout', 'Emily Winfield Martin',\n",
       "       'Eric Carle', 'Eric Larson', 'Ernest Cline', 'F. A. Hayek',\n",
       "       'F. Scott Fitzgerald', 'Francis Chan', 'Fredrik Backman', 'Gallup',\n",
       "       'Garth Stein', 'Gary Chapman', 'Gayle Forman', 'Geneen Roth',\n",
       "       'George Orwell', 'George R.R. Martin', 'George W. Bush',\n",
       "       'Giles Andreae', 'Gillian Flynn', 'Glenn Beck', 'Golden Books',\n",
       "       'Greg Mortenson', 'Harper Lee', 'Heidi Murkoff',\n",
       "       'Hillary Rodham Clinton', 'Hopscotch Girls', 'Howard Stern',\n",
       "       'Ian K. Smith M.D.', 'Ina Garten', 'J. D. Vance', 'J.K. Rowling',\n",
       "       'JJ Smith', 'James Comey', 'James Dashner', 'James Patterson',\n",
       "       'Jay Asher', 'Jaycee Dugard', 'Jeff Kinney', 'Jen Sincero',\n",
       "       'Jennifer Smith', 'Jill Twiss', 'Jim Collins', 'Joanna Gaines',\n",
       "       'Joel Fuhrman MD', 'Johanna Basford', 'John Green', 'John Grisham',\n",
       "       'John Heilemann', 'Jon Meacham', 'Jon Stewart', 'Jonathan Cahn',\n",
       "       'Jordan B. Peterson', 'Julia Child', 'Justin Halpern',\n",
       "       'Kathryn Stockett', 'Keith Richards', 'Ken Follett', 'Kevin Kwan',\n",
       "       'Khaled Hosseini', 'Kristin Hannah', 'Larry Schweikart',\n",
       "       'Laura Hillenbrand', 'Laurel Randolph', 'Lin-Manuel Miranda',\n",
       "       'Lysa TerKeurst', 'M Prefontaine', \"Madeleine L'Engle\",\n",
       "       'Malcolm Gladwell', 'Margaret Atwood', 'Margaret Wise Brown',\n",
       "       'Marie Kondō', 'Marjorie Sarnat', 'Mark Hyman M.D.', 'Mark Manson',\n",
       "       'Mark Owen', 'Mark R. Levin', 'Mark Twain', 'Markus Zusak',\n",
       "       'Marty Noble', 'Mary Ann Shaffer', 'Maurice Sendak',\n",
       "       'Melissa Hartwig Urban', 'Michael Lewis', 'Michael Pollan',\n",
       "       'Michael Wolff', 'Michelle Obama', 'Mike Moreno', 'Mitch Albom',\n",
       "       'Muriel Barbery', 'Naomi Kleinberg', 'Nathan W. Pyle',\n",
       "       'National Geographic Kids', 'Neil deGrasse Tyson',\n",
       "       'Paper Peony Press', 'Patrick Lencioni', 'Patrick Thorpe',\n",
       "       'Paul Kalanithi', 'Paula Hawkins', 'Paula McLain', 'Paulo Coelho',\n",
       "       'Pete Souza', 'Peter A. Lillback', 'Phil Robertson',\n",
       "       'Pierre Dukan', 'Pretty Simple Press', 'R. J. Palacio',\n",
       "       'RH Disney', 'Rachel Hollis', 'Raina Telgemeier', 'Randall Munroe',\n",
       "       'Randy Pausch', 'Ray Bradbury', 'Rebecca Skloot', 'Ree Drummond',\n",
       "       'Rick Riordan', 'Rob Bell', 'Rob Elliott', 'Robert Jordan',\n",
       "       'Robert Munsch', 'Rod Campbell', 'Roger Priddy', 'Ron Chernow',\n",
       "       'Rupi Kaur', 'Rush Limbaugh', 'Samin Nosrat', 'Sandra Boynton',\n",
       "       'Sara Gruen', 'Sarah Palin', 'Sarah Young', \"Sasha O'Hara\",\n",
       "       'Scholastic', 'School Zone', 'Sherri Duskey Rinker',\n",
       "       'Sheryl Sandberg', 'Silly Bear', 'Stephen Kendrick',\n",
       "       'Stephen King', 'Stephen R. Covey', 'Stephenie Meyer',\n",
       "       'Steve Harvey', 'Steven D. Levitt', 'Stieg Larsson', 'Susan Cain',\n",
       "       'Suzanne Collins', 'Ta-Nehisi Coates', 'Tara Westover',\n",
       "       'Tatiana de Rosnay', 'The College Board',\n",
       "       'The Staff of The Late Show with\\x85', 'The Washington Post',\n",
       "       'Thomas Campbell', 'Thomas Piketty', 'Thug Kitchen',\n",
       "       'Timothy Ferriss', 'Tina Fey', 'Todd Burpo', 'Tony Hsieh',\n",
       "       'Tucker Carlson', 'Veronica Roth', 'W. Cleon Skousen',\n",
       "       'Walter Isaacson', 'William Davis', 'William P. Young',\n",
       "       'Wizards RPG Team', 'Zhi Gang Sha'], dtype=object)"
      ]
     },
     "execution_count": 147,
     "metadata": {},
     "output_type": "execute_result"
    }
   ],
   "source": [
    "df.author.sort_values().unique()"
   ]
  },
  {
   "cell_type": "code",
   "execution_count": 148,
   "id": "a7db5b17",
   "metadata": {},
   "outputs": [],
   "source": [
    "#check the genre"
   ]
  },
  {
   "cell_type": "code",
   "execution_count": 149,
   "id": "4fff06b6",
   "metadata": {},
   "outputs": [
    {
     "data": {
      "text/plain": [
       "array(['Non Fiction', 'Fiction'], dtype=object)"
      ]
     },
     "execution_count": 149,
     "metadata": {},
     "output_type": "execute_result"
    }
   ],
   "source": [
    "df.genre.unique()"
   ]
  },
  {
   "cell_type": "code",
   "execution_count": 150,
   "id": "b83d4356",
   "metadata": {},
   "outputs": [],
   "source": [
    "#check the years column"
   ]
  },
  {
   "cell_type": "code",
   "execution_count": 152,
   "id": "743f7196",
   "metadata": {},
   "outputs": [
    {
     "data": {
      "text/plain": [
       "array([2009, 2010, 2011, 2012, 2013, 2014, 2015, 2016, 2017, 2018, 2019])"
      ]
     },
     "execution_count": 152,
     "metadata": {},
     "output_type": "execute_result"
    }
   ],
   "source": [
    "df.year.sort_values().unique()"
   ]
  },
  {
   "cell_type": "code",
   "execution_count": 155,
   "id": "f280320d",
   "metadata": {},
   "outputs": [],
   "source": [
    "#finally check entire dataframe"
   ]
  },
  {
   "cell_type": "code",
   "execution_count": 154,
   "id": "341a4d31",
   "metadata": {},
   "outputs": [
    {
     "data": {
      "text/html": [
       "<div>\n",
       "<style scoped>\n",
       "    .dataframe tbody tr th:only-of-type {\n",
       "        vertical-align: middle;\n",
       "    }\n",
       "\n",
       "    .dataframe tbody tr th {\n",
       "        vertical-align: top;\n",
       "    }\n",
       "\n",
       "    .dataframe thead th {\n",
       "        text-align: right;\n",
       "    }\n",
       "</style>\n",
       "<table border=\"1\" class=\"dataframe\">\n",
       "  <thead>\n",
       "    <tr style=\"text-align: right;\">\n",
       "      <th></th>\n",
       "      <th>name</th>\n",
       "      <th>author</th>\n",
       "      <th>user_rating</th>\n",
       "      <th>reviews</th>\n",
       "      <th>price</th>\n",
       "      <th>year</th>\n",
       "      <th>genre</th>\n",
       "    </tr>\n",
       "  </thead>\n",
       "  <tbody>\n",
       "    <tr>\n",
       "      <th>0</th>\n",
       "      <td>10-Day Green Smoothie Cleanse</td>\n",
       "      <td>JJ Smith</td>\n",
       "      <td>4.7</td>\n",
       "      <td>17350</td>\n",
       "      <td>8</td>\n",
       "      <td>2016</td>\n",
       "      <td>Non Fiction</td>\n",
       "    </tr>\n",
       "    <tr>\n",
       "      <th>1</th>\n",
       "      <td>11/22/63: A Novel</td>\n",
       "      <td>Stephen King</td>\n",
       "      <td>4.6</td>\n",
       "      <td>2052</td>\n",
       "      <td>22</td>\n",
       "      <td>2011</td>\n",
       "      <td>Fiction</td>\n",
       "    </tr>\n",
       "    <tr>\n",
       "      <th>2</th>\n",
       "      <td>12 Rules For Life: An Antidote To Chaos</td>\n",
       "      <td>Jordan B. Peterson</td>\n",
       "      <td>4.7</td>\n",
       "      <td>18979</td>\n",
       "      <td>15</td>\n",
       "      <td>2018</td>\n",
       "      <td>Non Fiction</td>\n",
       "    </tr>\n",
       "    <tr>\n",
       "      <th>3</th>\n",
       "      <td>1984 (Signet Classics)</td>\n",
       "      <td>George Orwell</td>\n",
       "      <td>4.7</td>\n",
       "      <td>21424</td>\n",
       "      <td>6</td>\n",
       "      <td>2017</td>\n",
       "      <td>Fiction</td>\n",
       "    </tr>\n",
       "    <tr>\n",
       "      <th>4</th>\n",
       "      <td>5,000 Awesome Facts (About Everything!) (Natio...</td>\n",
       "      <td>National Geographic Kids</td>\n",
       "      <td>4.8</td>\n",
       "      <td>7665</td>\n",
       "      <td>12</td>\n",
       "      <td>2019</td>\n",
       "      <td>Non Fiction</td>\n",
       "    </tr>\n",
       "    <tr>\n",
       "      <th>...</th>\n",
       "      <td>...</td>\n",
       "      <td>...</td>\n",
       "      <td>...</td>\n",
       "      <td>...</td>\n",
       "      <td>...</td>\n",
       "      <td>...</td>\n",
       "      <td>...</td>\n",
       "    </tr>\n",
       "    <tr>\n",
       "      <th>545</th>\n",
       "      <td>Wrecking Ball (Diary Of A Wimpy Kid Book 14)</td>\n",
       "      <td>Jeff Kinney</td>\n",
       "      <td>4.9</td>\n",
       "      <td>9413</td>\n",
       "      <td>8</td>\n",
       "      <td>2019</td>\n",
       "      <td>Fiction</td>\n",
       "    </tr>\n",
       "    <tr>\n",
       "      <th>546</th>\n",
       "      <td>You Are A Badass: How To Stop Doubting Your Gr...</td>\n",
       "      <td>Jen Sincero</td>\n",
       "      <td>4.7</td>\n",
       "      <td>14331</td>\n",
       "      <td>8</td>\n",
       "      <td>2016</td>\n",
       "      <td>Non Fiction</td>\n",
       "    </tr>\n",
       "    <tr>\n",
       "      <th>547</th>\n",
       "      <td>You Are A Badass: How To Stop Doubting Your Gr...</td>\n",
       "      <td>Jen Sincero</td>\n",
       "      <td>4.7</td>\n",
       "      <td>14331</td>\n",
       "      <td>8</td>\n",
       "      <td>2017</td>\n",
       "      <td>Non Fiction</td>\n",
       "    </tr>\n",
       "    <tr>\n",
       "      <th>548</th>\n",
       "      <td>You Are A Badass: How To Stop Doubting Your Gr...</td>\n",
       "      <td>Jen Sincero</td>\n",
       "      <td>4.7</td>\n",
       "      <td>14331</td>\n",
       "      <td>8</td>\n",
       "      <td>2018</td>\n",
       "      <td>Non Fiction</td>\n",
       "    </tr>\n",
       "    <tr>\n",
       "      <th>549</th>\n",
       "      <td>You Are A Badass: How To Stop Doubting Your Gr...</td>\n",
       "      <td>Jen Sincero</td>\n",
       "      <td>4.7</td>\n",
       "      <td>14331</td>\n",
       "      <td>8</td>\n",
       "      <td>2019</td>\n",
       "      <td>Non Fiction</td>\n",
       "    </tr>\n",
       "  </tbody>\n",
       "</table>\n",
       "<p>550 rows × 7 columns</p>\n",
       "</div>"
      ],
      "text/plain": [
       "                                                  name  \\\n",
       "0                        10-Day Green Smoothie Cleanse   \n",
       "1                                    11/22/63: A Novel   \n",
       "2              12 Rules For Life: An Antidote To Chaos   \n",
       "3                               1984 (Signet Classics)   \n",
       "4    5,000 Awesome Facts (About Everything!) (Natio...   \n",
       "..                                                 ...   \n",
       "545       Wrecking Ball (Diary Of A Wimpy Kid Book 14)   \n",
       "546  You Are A Badass: How To Stop Doubting Your Gr...   \n",
       "547  You Are A Badass: How To Stop Doubting Your Gr...   \n",
       "548  You Are A Badass: How To Stop Doubting Your Gr...   \n",
       "549  You Are A Badass: How To Stop Doubting Your Gr...   \n",
       "\n",
       "                       author  user_rating  reviews  price  year        genre  \n",
       "0                    JJ Smith          4.7    17350      8  2016  Non Fiction  \n",
       "1                Stephen King          4.6     2052     22  2011      Fiction  \n",
       "2          Jordan B. Peterson          4.7    18979     15  2018  Non Fiction  \n",
       "3               George Orwell          4.7    21424      6  2017      Fiction  \n",
       "4    National Geographic Kids          4.8     7665     12  2019  Non Fiction  \n",
       "..                        ...          ...      ...    ...   ...          ...  \n",
       "545               Jeff Kinney          4.9     9413      8  2019      Fiction  \n",
       "546               Jen Sincero          4.7    14331      8  2016  Non Fiction  \n",
       "547               Jen Sincero          4.7    14331      8  2017  Non Fiction  \n",
       "548               Jen Sincero          4.7    14331      8  2018  Non Fiction  \n",
       "549               Jen Sincero          4.7    14331      8  2019  Non Fiction  \n",
       "\n",
       "[550 rows x 7 columns]"
      ]
     },
     "execution_count": 154,
     "metadata": {},
     "output_type": "execute_result"
    }
   ],
   "source": [
    "df"
   ]
  },
  {
   "cell_type": "markdown",
   "id": "d59844b1",
   "metadata": {},
   "source": [
    "Some rows are repeated"
   ]
  },
  {
   "cell_type": "code",
   "execution_count": 156,
   "id": "a6c8f974",
   "metadata": {},
   "outputs": [],
   "source": [
    "#delete year column "
   ]
  },
  {
   "cell_type": "code",
   "execution_count": 158,
   "id": "57f0ed55",
   "metadata": {},
   "outputs": [],
   "source": [
    "del df['year']"
   ]
  },
  {
   "cell_type": "code",
   "execution_count": 159,
   "id": "958964cb",
   "metadata": {},
   "outputs": [
    {
     "data": {
      "text/html": [
       "<div>\n",
       "<style scoped>\n",
       "    .dataframe tbody tr th:only-of-type {\n",
       "        vertical-align: middle;\n",
       "    }\n",
       "\n",
       "    .dataframe tbody tr th {\n",
       "        vertical-align: top;\n",
       "    }\n",
       "\n",
       "    .dataframe thead th {\n",
       "        text-align: right;\n",
       "    }\n",
       "</style>\n",
       "<table border=\"1\" class=\"dataframe\">\n",
       "  <thead>\n",
       "    <tr style=\"text-align: right;\">\n",
       "      <th></th>\n",
       "      <th>name</th>\n",
       "      <th>author</th>\n",
       "      <th>user_rating</th>\n",
       "      <th>reviews</th>\n",
       "      <th>price</th>\n",
       "      <th>genre</th>\n",
       "    </tr>\n",
       "  </thead>\n",
       "  <tbody>\n",
       "    <tr>\n",
       "      <th>0</th>\n",
       "      <td>10-Day Green Smoothie Cleanse</td>\n",
       "      <td>JJ Smith</td>\n",
       "      <td>4.7</td>\n",
       "      <td>17350</td>\n",
       "      <td>8</td>\n",
       "      <td>Non Fiction</td>\n",
       "    </tr>\n",
       "    <tr>\n",
       "      <th>1</th>\n",
       "      <td>11/22/63: A Novel</td>\n",
       "      <td>Stephen King</td>\n",
       "      <td>4.6</td>\n",
       "      <td>2052</td>\n",
       "      <td>22</td>\n",
       "      <td>Fiction</td>\n",
       "    </tr>\n",
       "    <tr>\n",
       "      <th>2</th>\n",
       "      <td>12 Rules For Life: An Antidote To Chaos</td>\n",
       "      <td>Jordan B. Peterson</td>\n",
       "      <td>4.7</td>\n",
       "      <td>18979</td>\n",
       "      <td>15</td>\n",
       "      <td>Non Fiction</td>\n",
       "    </tr>\n",
       "    <tr>\n",
       "      <th>3</th>\n",
       "      <td>1984 (Signet Classics)</td>\n",
       "      <td>George Orwell</td>\n",
       "      <td>4.7</td>\n",
       "      <td>21424</td>\n",
       "      <td>6</td>\n",
       "      <td>Fiction</td>\n",
       "    </tr>\n",
       "    <tr>\n",
       "      <th>4</th>\n",
       "      <td>5,000 Awesome Facts (About Everything!) (Natio...</td>\n",
       "      <td>National Geographic Kids</td>\n",
       "      <td>4.8</td>\n",
       "      <td>7665</td>\n",
       "      <td>12</td>\n",
       "      <td>Non Fiction</td>\n",
       "    </tr>\n",
       "    <tr>\n",
       "      <th>...</th>\n",
       "      <td>...</td>\n",
       "      <td>...</td>\n",
       "      <td>...</td>\n",
       "      <td>...</td>\n",
       "      <td>...</td>\n",
       "      <td>...</td>\n",
       "    </tr>\n",
       "    <tr>\n",
       "      <th>545</th>\n",
       "      <td>Wrecking Ball (Diary Of A Wimpy Kid Book 14)</td>\n",
       "      <td>Jeff Kinney</td>\n",
       "      <td>4.9</td>\n",
       "      <td>9413</td>\n",
       "      <td>8</td>\n",
       "      <td>Fiction</td>\n",
       "    </tr>\n",
       "    <tr>\n",
       "      <th>546</th>\n",
       "      <td>You Are A Badass: How To Stop Doubting Your Gr...</td>\n",
       "      <td>Jen Sincero</td>\n",
       "      <td>4.7</td>\n",
       "      <td>14331</td>\n",
       "      <td>8</td>\n",
       "      <td>Non Fiction</td>\n",
       "    </tr>\n",
       "    <tr>\n",
       "      <th>547</th>\n",
       "      <td>You Are A Badass: How To Stop Doubting Your Gr...</td>\n",
       "      <td>Jen Sincero</td>\n",
       "      <td>4.7</td>\n",
       "      <td>14331</td>\n",
       "      <td>8</td>\n",
       "      <td>Non Fiction</td>\n",
       "    </tr>\n",
       "    <tr>\n",
       "      <th>548</th>\n",
       "      <td>You Are A Badass: How To Stop Doubting Your Gr...</td>\n",
       "      <td>Jen Sincero</td>\n",
       "      <td>4.7</td>\n",
       "      <td>14331</td>\n",
       "      <td>8</td>\n",
       "      <td>Non Fiction</td>\n",
       "    </tr>\n",
       "    <tr>\n",
       "      <th>549</th>\n",
       "      <td>You Are A Badass: How To Stop Doubting Your Gr...</td>\n",
       "      <td>Jen Sincero</td>\n",
       "      <td>4.7</td>\n",
       "      <td>14331</td>\n",
       "      <td>8</td>\n",
       "      <td>Non Fiction</td>\n",
       "    </tr>\n",
       "  </tbody>\n",
       "</table>\n",
       "<p>550 rows × 6 columns</p>\n",
       "</div>"
      ],
      "text/plain": [
       "                                                  name  \\\n",
       "0                        10-Day Green Smoothie Cleanse   \n",
       "1                                    11/22/63: A Novel   \n",
       "2              12 Rules For Life: An Antidote To Chaos   \n",
       "3                               1984 (Signet Classics)   \n",
       "4    5,000 Awesome Facts (About Everything!) (Natio...   \n",
       "..                                                 ...   \n",
       "545       Wrecking Ball (Diary Of A Wimpy Kid Book 14)   \n",
       "546  You Are A Badass: How To Stop Doubting Your Gr...   \n",
       "547  You Are A Badass: How To Stop Doubting Your Gr...   \n",
       "548  You Are A Badass: How To Stop Doubting Your Gr...   \n",
       "549  You Are A Badass: How To Stop Doubting Your Gr...   \n",
       "\n",
       "                       author  user_rating  reviews  price        genre  \n",
       "0                    JJ Smith          4.7    17350      8  Non Fiction  \n",
       "1                Stephen King          4.6     2052     22      Fiction  \n",
       "2          Jordan B. Peterson          4.7    18979     15  Non Fiction  \n",
       "3               George Orwell          4.7    21424      6      Fiction  \n",
       "4    National Geographic Kids          4.8     7665     12  Non Fiction  \n",
       "..                        ...          ...      ...    ...          ...  \n",
       "545               Jeff Kinney          4.9     9413      8      Fiction  \n",
       "546               Jen Sincero          4.7    14331      8  Non Fiction  \n",
       "547               Jen Sincero          4.7    14331      8  Non Fiction  \n",
       "548               Jen Sincero          4.7    14331      8  Non Fiction  \n",
       "549               Jen Sincero          4.7    14331      8  Non Fiction  \n",
       "\n",
       "[550 rows x 6 columns]"
      ]
     },
     "execution_count": 159,
     "metadata": {},
     "output_type": "execute_result"
    }
   ],
   "source": [
    "df"
   ]
  },
  {
   "cell_type": "code",
   "execution_count": 161,
   "id": "0c431351",
   "metadata": {},
   "outputs": [],
   "source": [
    "df = df.drop_duplicates(keep = 'first')"
   ]
  },
  {
   "cell_type": "code",
   "execution_count": 162,
   "id": "73f0b2b6",
   "metadata": {},
   "outputs": [
    {
     "data": {
      "text/html": [
       "<div>\n",
       "<style scoped>\n",
       "    .dataframe tbody tr th:only-of-type {\n",
       "        vertical-align: middle;\n",
       "    }\n",
       "\n",
       "    .dataframe tbody tr th {\n",
       "        vertical-align: top;\n",
       "    }\n",
       "\n",
       "    .dataframe thead th {\n",
       "        text-align: right;\n",
       "    }\n",
       "</style>\n",
       "<table border=\"1\" class=\"dataframe\">\n",
       "  <thead>\n",
       "    <tr style=\"text-align: right;\">\n",
       "      <th></th>\n",
       "      <th>name</th>\n",
       "      <th>author</th>\n",
       "      <th>user_rating</th>\n",
       "      <th>reviews</th>\n",
       "      <th>price</th>\n",
       "      <th>genre</th>\n",
       "    </tr>\n",
       "  </thead>\n",
       "  <tbody>\n",
       "    <tr>\n",
       "      <th>0</th>\n",
       "      <td>10-Day Green Smoothie Cleanse</td>\n",
       "      <td>JJ Smith</td>\n",
       "      <td>4.7</td>\n",
       "      <td>17350</td>\n",
       "      <td>8</td>\n",
       "      <td>Non Fiction</td>\n",
       "    </tr>\n",
       "    <tr>\n",
       "      <th>1</th>\n",
       "      <td>11/22/63: A Novel</td>\n",
       "      <td>Stephen King</td>\n",
       "      <td>4.6</td>\n",
       "      <td>2052</td>\n",
       "      <td>22</td>\n",
       "      <td>Fiction</td>\n",
       "    </tr>\n",
       "    <tr>\n",
       "      <th>2</th>\n",
       "      <td>12 Rules For Life: An Antidote To Chaos</td>\n",
       "      <td>Jordan B. Peterson</td>\n",
       "      <td>4.7</td>\n",
       "      <td>18979</td>\n",
       "      <td>15</td>\n",
       "      <td>Non Fiction</td>\n",
       "    </tr>\n",
       "    <tr>\n",
       "      <th>3</th>\n",
       "      <td>1984 (Signet Classics)</td>\n",
       "      <td>George Orwell</td>\n",
       "      <td>4.7</td>\n",
       "      <td>21424</td>\n",
       "      <td>6</td>\n",
       "      <td>Fiction</td>\n",
       "    </tr>\n",
       "    <tr>\n",
       "      <th>4</th>\n",
       "      <td>5,000 Awesome Facts (About Everything!) (Natio...</td>\n",
       "      <td>National Geographic Kids</td>\n",
       "      <td>4.8</td>\n",
       "      <td>7665</td>\n",
       "      <td>12</td>\n",
       "      <td>Non Fiction</td>\n",
       "    </tr>\n",
       "    <tr>\n",
       "      <th>...</th>\n",
       "      <td>...</td>\n",
       "      <td>...</td>\n",
       "      <td>...</td>\n",
       "      <td>...</td>\n",
       "      <td>...</td>\n",
       "      <td>...</td>\n",
       "    </tr>\n",
       "    <tr>\n",
       "      <th>538</th>\n",
       "      <td>Winter Of The World: Book Two Of The Century T...</td>\n",
       "      <td>Ken Follett</td>\n",
       "      <td>4.5</td>\n",
       "      <td>10760</td>\n",
       "      <td>15</td>\n",
       "      <td>Fiction</td>\n",
       "    </tr>\n",
       "    <tr>\n",
       "      <th>539</th>\n",
       "      <td>Women Food And God: An Unexpected Path To Almo...</td>\n",
       "      <td>Geneen Roth</td>\n",
       "      <td>4.2</td>\n",
       "      <td>1302</td>\n",
       "      <td>11</td>\n",
       "      <td>Non Fiction</td>\n",
       "    </tr>\n",
       "    <tr>\n",
       "      <th>540</th>\n",
       "      <td>Wonder</td>\n",
       "      <td>R. J. Palacio</td>\n",
       "      <td>4.8</td>\n",
       "      <td>21625</td>\n",
       "      <td>9</td>\n",
       "      <td>Fiction</td>\n",
       "    </tr>\n",
       "    <tr>\n",
       "      <th>545</th>\n",
       "      <td>Wrecking Ball (Diary Of A Wimpy Kid Book 14)</td>\n",
       "      <td>Jeff Kinney</td>\n",
       "      <td>4.9</td>\n",
       "      <td>9413</td>\n",
       "      <td>8</td>\n",
       "      <td>Fiction</td>\n",
       "    </tr>\n",
       "    <tr>\n",
       "      <th>546</th>\n",
       "      <td>You Are A Badass: How To Stop Doubting Your Gr...</td>\n",
       "      <td>Jen Sincero</td>\n",
       "      <td>4.7</td>\n",
       "      <td>14331</td>\n",
       "      <td>8</td>\n",
       "      <td>Non Fiction</td>\n",
       "    </tr>\n",
       "  </tbody>\n",
       "</table>\n",
       "<p>361 rows × 6 columns</p>\n",
       "</div>"
      ],
      "text/plain": [
       "                                                  name  \\\n",
       "0                        10-Day Green Smoothie Cleanse   \n",
       "1                                    11/22/63: A Novel   \n",
       "2              12 Rules For Life: An Antidote To Chaos   \n",
       "3                               1984 (Signet Classics)   \n",
       "4    5,000 Awesome Facts (About Everything!) (Natio...   \n",
       "..                                                 ...   \n",
       "538  Winter Of The World: Book Two Of The Century T...   \n",
       "539  Women Food And God: An Unexpected Path To Almo...   \n",
       "540                                             Wonder   \n",
       "545       Wrecking Ball (Diary Of A Wimpy Kid Book 14)   \n",
       "546  You Are A Badass: How To Stop Doubting Your Gr...   \n",
       "\n",
       "                       author  user_rating  reviews  price        genre  \n",
       "0                    JJ Smith          4.7    17350      8  Non Fiction  \n",
       "1                Stephen King          4.6     2052     22      Fiction  \n",
       "2          Jordan B. Peterson          4.7    18979     15  Non Fiction  \n",
       "3               George Orwell          4.7    21424      6      Fiction  \n",
       "4    National Geographic Kids          4.8     7665     12  Non Fiction  \n",
       "..                        ...          ...      ...    ...          ...  \n",
       "538               Ken Follett          4.5    10760     15      Fiction  \n",
       "539               Geneen Roth          4.2     1302     11  Non Fiction  \n",
       "540             R. J. Palacio          4.8    21625      9      Fiction  \n",
       "545               Jeff Kinney          4.9     9413      8      Fiction  \n",
       "546               Jen Sincero          4.7    14331      8  Non Fiction  \n",
       "\n",
       "[361 rows x 6 columns]"
      ]
     },
     "execution_count": 162,
     "metadata": {},
     "output_type": "execute_result"
    }
   ],
   "source": [
    "df"
   ]
  },
  {
   "cell_type": "code",
   "execution_count": 163,
   "id": "a469ca37",
   "metadata": {},
   "outputs": [
    {
     "data": {
      "text/plain": [
       "[('Wonder', 100, 540),\n",
       " ('The Wonderful Things You Will Be', 90, 486),\n",
       " ('Alexander Hamilton', 60, 19),\n",
       " (\"Balance (Angie'S Extreme Stress Menders)\", 60, 29),\n",
       " ('Liberty And Tyranny: A Conservative Manifesto', 60, 216),\n",
       " ('Strengthsfinder 2.0', 60, 304),\n",
       " ('The Pioneer Woman Cooks: Food From My Frontier', 60, 448),\n",
       " ('The Sun And Her Flowers', 60, 467),\n",
       " ('Under The Dome: A Novel', 60, 520),\n",
       " ('The Blood Of Olympus (The Heroes Of Olympus (5))', 57, 343)]"
      ]
     },
     "execution_count": 163,
     "metadata": {},
     "output_type": "execute_result"
    }
   ],
   "source": [
    "process.extract('Wonder', df.name, limit=10)"
   ]
  },
  {
   "cell_type": "code",
   "execution_count": 164,
   "id": "066d1d3c",
   "metadata": {},
   "outputs": [
    {
     "data": {
      "text/plain": [
       "[('The Girl On The Train', 95, 382),\n",
       " ('The Girl On The Train', 95, 383),\n",
       " (\"A Patriot'S History Of The United States: From Columbus'S Great Discovery To The War On Terror\",\n",
       "  86,\n",
       "  11),\n",
       " ('All The Light We Cannot See', 86, 20),\n",
       " ('American Sniper: The Autobiography Of The Most Lethal Sniper In U.S. Military History',\n",
       "  86,\n",
       "  23),\n",
       " ('And The Mountains Echoed', 86, 24),\n",
       " ('Being Mortal: Medicine And What Matters In The End', 86, 34),\n",
       " ('Between The World And Me', 86, 35),\n",
       " ('Breaking Dawn (The Twilight Saga, Book 4)', 86, 38),\n",
       " ('Broke: The Plan To Restore Our Trust, Truth And Treasure', 86, 39)]"
      ]
     },
     "execution_count": 164,
     "metadata": {},
     "output_type": "execute_result"
    }
   ],
   "source": [
    "process.extract('The Girl On The', df.name, limit=10)"
   ]
  },
  {
   "cell_type": "markdown",
   "id": "eb2919ee",
   "metadata": {},
   "source": [
    "Some of the books are repeated, this could be due to the same book being sold at at different price"
   ]
  },
  {
   "cell_type": "code",
   "execution_count": 165,
   "id": "84ead725",
   "metadata": {},
   "outputs": [],
   "source": [
    "#Count repeated books in our data"
   ]
  },
  {
   "cell_type": "code",
   "execution_count": 168,
   "id": "73a4b2bd",
   "metadata": {},
   "outputs": [],
   "source": [
    "from collections import Counter"
   ]
  },
  {
   "cell_type": "code",
   "execution_count": 169,
   "id": "ccbe2f81",
   "metadata": {},
   "outputs": [],
   "source": [
    "repeat_books = Counter(df.name.tolist())"
   ]
  },
  {
   "cell_type": "code",
   "execution_count": 172,
   "id": "73cd612d",
   "metadata": {},
   "outputs": [
    {
     "data": {
      "text/plain": [
       "[('The Help', 3),\n",
       " ('Gone Girl', 2),\n",
       " (\"Quiet: The Power Of Introverts In A World That Can'T Stop Talking\", 2),\n",
       " ('The 5 Love Languages: The Secret To Love That Lasts', 2),\n",
       " ('The 7 Habits Of Highly Effective People: Powerful Lessons In Personal Change',\n",
       "  2),\n",
       " ('The Fault In Our Stars', 2),\n",
       " ('The Girl On The Train', 2),\n",
       " ('The Immortal Life Of Henrietta Lacks', 2),\n",
       " ('To Kill A Mockingbird', 2),\n",
       " ('Unbroken: A World War Ii Story Of Survival, Resilience, And Redemption', 2)]"
      ]
     },
     "execution_count": 172,
     "metadata": {},
     "output_type": "execute_result"
    }
   ],
   "source": [
    "repeat_books.most_common(10)"
   ]
  },
  {
   "cell_type": "code",
   "execution_count": 174,
   "id": "fd5270fb",
   "metadata": {},
   "outputs": [],
   "source": [
    "#Remove duplicates, keep last entry of duplicates"
   ]
  },
  {
   "cell_type": "code",
   "execution_count": 175,
   "id": "810f0170",
   "metadata": {},
   "outputs": [
    {
     "data": {
      "text/html": [
       "<div>\n",
       "<style scoped>\n",
       "    .dataframe tbody tr th:only-of-type {\n",
       "        vertical-align: middle;\n",
       "    }\n",
       "\n",
       "    .dataframe tbody tr th {\n",
       "        vertical-align: top;\n",
       "    }\n",
       "\n",
       "    .dataframe thead th {\n",
       "        text-align: right;\n",
       "    }\n",
       "</style>\n",
       "<table border=\"1\" class=\"dataframe\">\n",
       "  <thead>\n",
       "    <tr style=\"text-align: right;\">\n",
       "      <th></th>\n",
       "      <th>name</th>\n",
       "      <th>author</th>\n",
       "      <th>user_rating</th>\n",
       "      <th>reviews</th>\n",
       "      <th>price</th>\n",
       "      <th>genre</th>\n",
       "    </tr>\n",
       "  </thead>\n",
       "  <tbody>\n",
       "    <tr>\n",
       "      <th>0</th>\n",
       "      <td>10-Day Green Smoothie Cleanse</td>\n",
       "      <td>JJ Smith</td>\n",
       "      <td>4.7</td>\n",
       "      <td>17350</td>\n",
       "      <td>8</td>\n",
       "      <td>Non Fiction</td>\n",
       "    </tr>\n",
       "    <tr>\n",
       "      <th>1</th>\n",
       "      <td>11/22/63: A Novel</td>\n",
       "      <td>Stephen King</td>\n",
       "      <td>4.6</td>\n",
       "      <td>2052</td>\n",
       "      <td>22</td>\n",
       "      <td>Fiction</td>\n",
       "    </tr>\n",
       "    <tr>\n",
       "      <th>2</th>\n",
       "      <td>12 Rules For Life: An Antidote To Chaos</td>\n",
       "      <td>Jordan B. Peterson</td>\n",
       "      <td>4.7</td>\n",
       "      <td>18979</td>\n",
       "      <td>15</td>\n",
       "      <td>Non Fiction</td>\n",
       "    </tr>\n",
       "    <tr>\n",
       "      <th>3</th>\n",
       "      <td>1984 (Signet Classics)</td>\n",
       "      <td>George Orwell</td>\n",
       "      <td>4.7</td>\n",
       "      <td>21424</td>\n",
       "      <td>6</td>\n",
       "      <td>Fiction</td>\n",
       "    </tr>\n",
       "    <tr>\n",
       "      <th>4</th>\n",
       "      <td>5,000 Awesome Facts (About Everything!) (Natio...</td>\n",
       "      <td>National Geographic Kids</td>\n",
       "      <td>4.8</td>\n",
       "      <td>7665</td>\n",
       "      <td>12</td>\n",
       "      <td>Non Fiction</td>\n",
       "    </tr>\n",
       "    <tr>\n",
       "      <th>...</th>\n",
       "      <td>...</td>\n",
       "      <td>...</td>\n",
       "      <td>...</td>\n",
       "      <td>...</td>\n",
       "      <td>...</td>\n",
       "      <td>...</td>\n",
       "    </tr>\n",
       "    <tr>\n",
       "      <th>538</th>\n",
       "      <td>Winter Of The World: Book Two Of The Century T...</td>\n",
       "      <td>Ken Follett</td>\n",
       "      <td>4.5</td>\n",
       "      <td>10760</td>\n",
       "      <td>15</td>\n",
       "      <td>Fiction</td>\n",
       "    </tr>\n",
       "    <tr>\n",
       "      <th>539</th>\n",
       "      <td>Women Food And God: An Unexpected Path To Almo...</td>\n",
       "      <td>Geneen Roth</td>\n",
       "      <td>4.2</td>\n",
       "      <td>1302</td>\n",
       "      <td>11</td>\n",
       "      <td>Non Fiction</td>\n",
       "    </tr>\n",
       "    <tr>\n",
       "      <th>540</th>\n",
       "      <td>Wonder</td>\n",
       "      <td>R. J. Palacio</td>\n",
       "      <td>4.8</td>\n",
       "      <td>21625</td>\n",
       "      <td>9</td>\n",
       "      <td>Fiction</td>\n",
       "    </tr>\n",
       "    <tr>\n",
       "      <th>545</th>\n",
       "      <td>Wrecking Ball (Diary Of A Wimpy Kid Book 14)</td>\n",
       "      <td>Jeff Kinney</td>\n",
       "      <td>4.9</td>\n",
       "      <td>9413</td>\n",
       "      <td>8</td>\n",
       "      <td>Fiction</td>\n",
       "    </tr>\n",
       "    <tr>\n",
       "      <th>546</th>\n",
       "      <td>You Are A Badass: How To Stop Doubting Your Gr...</td>\n",
       "      <td>Jen Sincero</td>\n",
       "      <td>4.7</td>\n",
       "      <td>14331</td>\n",
       "      <td>8</td>\n",
       "      <td>Non Fiction</td>\n",
       "    </tr>\n",
       "  </tbody>\n",
       "</table>\n",
       "<p>350 rows × 6 columns</p>\n",
       "</div>"
      ],
      "text/plain": [
       "                                                  name  \\\n",
       "0                        10-Day Green Smoothie Cleanse   \n",
       "1                                    11/22/63: A Novel   \n",
       "2              12 Rules For Life: An Antidote To Chaos   \n",
       "3                               1984 (Signet Classics)   \n",
       "4    5,000 Awesome Facts (About Everything!) (Natio...   \n",
       "..                                                 ...   \n",
       "538  Winter Of The World: Book Two Of The Century T...   \n",
       "539  Women Food And God: An Unexpected Path To Almo...   \n",
       "540                                             Wonder   \n",
       "545       Wrecking Ball (Diary Of A Wimpy Kid Book 14)   \n",
       "546  You Are A Badass: How To Stop Doubting Your Gr...   \n",
       "\n",
       "                       author  user_rating  reviews  price        genre  \n",
       "0                    JJ Smith          4.7    17350      8  Non Fiction  \n",
       "1                Stephen King          4.6     2052     22      Fiction  \n",
       "2          Jordan B. Peterson          4.7    18979     15  Non Fiction  \n",
       "3               George Orwell          4.7    21424      6      Fiction  \n",
       "4    National Geographic Kids          4.8     7665     12  Non Fiction  \n",
       "..                        ...          ...      ...    ...          ...  \n",
       "538               Ken Follett          4.5    10760     15      Fiction  \n",
       "539               Geneen Roth          4.2     1302     11  Non Fiction  \n",
       "540             R. J. Palacio          4.8    21625      9      Fiction  \n",
       "545               Jeff Kinney          4.9     9413      8      Fiction  \n",
       "546               Jen Sincero          4.7    14331      8  Non Fiction  \n",
       "\n",
       "[350 rows x 6 columns]"
      ]
     },
     "execution_count": 175,
     "metadata": {},
     "output_type": "execute_result"
    }
   ],
   "source": [
    "df.drop_duplicates(subset='name', keep='last')"
   ]
  },
  {
   "cell_type": "code",
   "execution_count": 176,
   "id": "04560ac6",
   "metadata": {},
   "outputs": [],
   "source": [
    "df=df.drop_duplicates(subset='name', keep='last')"
   ]
  },
  {
   "cell_type": "code",
   "execution_count": 177,
   "id": "bbc906f9",
   "metadata": {
    "scrolled": true
   },
   "outputs": [
    {
     "data": {
      "text/html": [
       "<div>\n",
       "<style scoped>\n",
       "    .dataframe tbody tr th:only-of-type {\n",
       "        vertical-align: middle;\n",
       "    }\n",
       "\n",
       "    .dataframe tbody tr th {\n",
       "        vertical-align: top;\n",
       "    }\n",
       "\n",
       "    .dataframe thead th {\n",
       "        text-align: right;\n",
       "    }\n",
       "</style>\n",
       "<table border=\"1\" class=\"dataframe\">\n",
       "  <thead>\n",
       "    <tr style=\"text-align: right;\">\n",
       "      <th></th>\n",
       "      <th>name</th>\n",
       "      <th>author</th>\n",
       "      <th>user_rating</th>\n",
       "      <th>reviews</th>\n",
       "      <th>price</th>\n",
       "      <th>genre</th>\n",
       "    </tr>\n",
       "  </thead>\n",
       "  <tbody>\n",
       "    <tr>\n",
       "      <th>0</th>\n",
       "      <td>10-Day Green Smoothie Cleanse</td>\n",
       "      <td>JJ Smith</td>\n",
       "      <td>4.7</td>\n",
       "      <td>17350</td>\n",
       "      <td>8</td>\n",
       "      <td>Non Fiction</td>\n",
       "    </tr>\n",
       "    <tr>\n",
       "      <th>1</th>\n",
       "      <td>11/22/63: A Novel</td>\n",
       "      <td>Stephen King</td>\n",
       "      <td>4.6</td>\n",
       "      <td>2052</td>\n",
       "      <td>22</td>\n",
       "      <td>Fiction</td>\n",
       "    </tr>\n",
       "    <tr>\n",
       "      <th>2</th>\n",
       "      <td>12 Rules For Life: An Antidote To Chaos</td>\n",
       "      <td>Jordan B. Peterson</td>\n",
       "      <td>4.7</td>\n",
       "      <td>18979</td>\n",
       "      <td>15</td>\n",
       "      <td>Non Fiction</td>\n",
       "    </tr>\n",
       "    <tr>\n",
       "      <th>3</th>\n",
       "      <td>1984 (Signet Classics)</td>\n",
       "      <td>George Orwell</td>\n",
       "      <td>4.7</td>\n",
       "      <td>21424</td>\n",
       "      <td>6</td>\n",
       "      <td>Fiction</td>\n",
       "    </tr>\n",
       "    <tr>\n",
       "      <th>4</th>\n",
       "      <td>5,000 Awesome Facts (About Everything!) (Natio...</td>\n",
       "      <td>National Geographic Kids</td>\n",
       "      <td>4.8</td>\n",
       "      <td>7665</td>\n",
       "      <td>12</td>\n",
       "      <td>Non Fiction</td>\n",
       "    </tr>\n",
       "    <tr>\n",
       "      <th>...</th>\n",
       "      <td>...</td>\n",
       "      <td>...</td>\n",
       "      <td>...</td>\n",
       "      <td>...</td>\n",
       "      <td>...</td>\n",
       "      <td>...</td>\n",
       "    </tr>\n",
       "    <tr>\n",
       "      <th>538</th>\n",
       "      <td>Winter Of The World: Book Two Of The Century T...</td>\n",
       "      <td>Ken Follett</td>\n",
       "      <td>4.5</td>\n",
       "      <td>10760</td>\n",
       "      <td>15</td>\n",
       "      <td>Fiction</td>\n",
       "    </tr>\n",
       "    <tr>\n",
       "      <th>539</th>\n",
       "      <td>Women Food And God: An Unexpected Path To Almo...</td>\n",
       "      <td>Geneen Roth</td>\n",
       "      <td>4.2</td>\n",
       "      <td>1302</td>\n",
       "      <td>11</td>\n",
       "      <td>Non Fiction</td>\n",
       "    </tr>\n",
       "    <tr>\n",
       "      <th>540</th>\n",
       "      <td>Wonder</td>\n",
       "      <td>R. J. Palacio</td>\n",
       "      <td>4.8</td>\n",
       "      <td>21625</td>\n",
       "      <td>9</td>\n",
       "      <td>Fiction</td>\n",
       "    </tr>\n",
       "    <tr>\n",
       "      <th>545</th>\n",
       "      <td>Wrecking Ball (Diary Of A Wimpy Kid Book 14)</td>\n",
       "      <td>Jeff Kinney</td>\n",
       "      <td>4.9</td>\n",
       "      <td>9413</td>\n",
       "      <td>8</td>\n",
       "      <td>Fiction</td>\n",
       "    </tr>\n",
       "    <tr>\n",
       "      <th>546</th>\n",
       "      <td>You Are A Badass: How To Stop Doubting Your Gr...</td>\n",
       "      <td>Jen Sincero</td>\n",
       "      <td>4.7</td>\n",
       "      <td>14331</td>\n",
       "      <td>8</td>\n",
       "      <td>Non Fiction</td>\n",
       "    </tr>\n",
       "  </tbody>\n",
       "</table>\n",
       "<p>350 rows × 6 columns</p>\n",
       "</div>"
      ],
      "text/plain": [
       "                                                  name  \\\n",
       "0                        10-Day Green Smoothie Cleanse   \n",
       "1                                    11/22/63: A Novel   \n",
       "2              12 Rules For Life: An Antidote To Chaos   \n",
       "3                               1984 (Signet Classics)   \n",
       "4    5,000 Awesome Facts (About Everything!) (Natio...   \n",
       "..                                                 ...   \n",
       "538  Winter Of The World: Book Two Of The Century T...   \n",
       "539  Women Food And God: An Unexpected Path To Almo...   \n",
       "540                                             Wonder   \n",
       "545       Wrecking Ball (Diary Of A Wimpy Kid Book 14)   \n",
       "546  You Are A Badass: How To Stop Doubting Your Gr...   \n",
       "\n",
       "                       author  user_rating  reviews  price        genre  \n",
       "0                    JJ Smith          4.7    17350      8  Non Fiction  \n",
       "1                Stephen King          4.6     2052     22      Fiction  \n",
       "2          Jordan B. Peterson          4.7    18979     15  Non Fiction  \n",
       "3               George Orwell          4.7    21424      6      Fiction  \n",
       "4    National Geographic Kids          4.8     7665     12  Non Fiction  \n",
       "..                        ...          ...      ...    ...          ...  \n",
       "538               Ken Follett          4.5    10760     15      Fiction  \n",
       "539               Geneen Roth          4.2     1302     11  Non Fiction  \n",
       "540             R. J. Palacio          4.8    21625      9      Fiction  \n",
       "545               Jeff Kinney          4.9     9413      8      Fiction  \n",
       "546               Jen Sincero          4.7    14331      8  Non Fiction  \n",
       "\n",
       "[350 rows x 6 columns]"
      ]
     },
     "execution_count": 177,
     "metadata": {},
     "output_type": "execute_result"
    }
   ],
   "source": [
    "df"
   ]
  },
  {
   "cell_type": "markdown",
   "id": "1d993421",
   "metadata": {},
   "source": [
    "Lets visualize user ratings "
   ]
  },
  {
   "cell_type": "code",
   "execution_count": 190,
   "id": "7799c18d",
   "metadata": {
    "scrolled": false
   },
   "outputs": [
    {
     "data": {
      "image/png": "[encoded data removed]",
      "text/plain": [
       "<Figure size 432x288 with 1 Axes>"
      ]
     },
     "metadata": {
      "needs_background": "light"
     },
     "output_type": "display_data"
    }
   ],
   "source": [
    "plot = sns.histplot(df, x='user_rating', color= 'g')"
   ]
  },
  {
   "cell_type": "markdown",
   "id": "96ac6267",
   "metadata": {},
   "source": [
    "From the graph most books receive a high rating(rating > 4). \n",
    "A few books have a rating less than 4\n"
   ]
  },
  {
   "cell_type": "code",
   "execution_count": null,
   "id": "5c7d5313",
   "metadata": {},
   "outputs": [],
   "source": []
  },
  {
   "cell_type": "markdown",
   "id": "268e582c",
   "metadata": {},
   "source": [
    "Lets answer some questions about our prolifc authors"
   ]
  },
  {
   "cell_type": "code",
   "execution_count": 207,
   "id": "3ec242ec",
   "metadata": {},
   "outputs": [],
   "source": [
    "#Top 10 authors"
   ]
  },
  {
   "cell_type": "code",
   "execution_count": 199,
   "id": "6a0df3a2",
   "metadata": {},
   "outputs": [],
   "source": [
    "top_10_authors = df.groupby('author')[['user_rating']].mean().sort_values('user_rating', ascending = False)"
   ]
  },
  {
   "cell_type": "code",
   "execution_count": 203,
   "id": "489bc360",
   "metadata": {
    "scrolled": true
   },
   "outputs": [],
   "source": [
    "top_10_authors=top_10_authors.head(10).reset_index()"
   ]
  },
  {
   "cell_type": "code",
   "execution_count": 209,
   "id": "06b40ce7",
   "metadata": {},
   "outputs": [
    {
     "data": {
      "text/html": [
       "<div>\n",
       "<style scoped>\n",
       "    .dataframe tbody tr th:only-of-type {\n",
       "        vertical-align: middle;\n",
       "    }\n",
       "\n",
       "    .dataframe tbody tr th {\n",
       "        vertical-align: top;\n",
       "    }\n",
       "\n",
       "    .dataframe thead th {\n",
       "        text-align: right;\n",
       "    }\n",
       "</style>\n",
       "<table border=\"1\" class=\"dataframe\">\n",
       "  <thead>\n",
       "    <tr style=\"text-align: right;\">\n",
       "      <th></th>\n",
       "      <th>author</th>\n",
       "      <th>user_rating</th>\n",
       "    </tr>\n",
       "  </thead>\n",
       "  <tbody>\n",
       "    <tr>\n",
       "      <th>0</th>\n",
       "      <td>Nathan W. Pyle</td>\n",
       "      <td>4.9</td>\n",
       "    </tr>\n",
       "    <tr>\n",
       "      <th>1</th>\n",
       "      <td>Bill Martin Jr.</td>\n",
       "      <td>4.9</td>\n",
       "    </tr>\n",
       "    <tr>\n",
       "      <th>2</th>\n",
       "      <td>Jill Twiss</td>\n",
       "      <td>4.9</td>\n",
       "    </tr>\n",
       "    <tr>\n",
       "      <th>3</th>\n",
       "      <td>Rush Limbaugh</td>\n",
       "      <td>4.9</td>\n",
       "    </tr>\n",
       "    <tr>\n",
       "      <th>4</th>\n",
       "      <td>Pete Souza</td>\n",
       "      <td>4.9</td>\n",
       "    </tr>\n",
       "    <tr>\n",
       "      <th>5</th>\n",
       "      <td>Sarah Young</td>\n",
       "      <td>4.9</td>\n",
       "    </tr>\n",
       "    <tr>\n",
       "      <th>6</th>\n",
       "      <td>Lin-Manuel Miranda</td>\n",
       "      <td>4.9</td>\n",
       "    </tr>\n",
       "    <tr>\n",
       "      <th>7</th>\n",
       "      <td>Patrick Thorpe</td>\n",
       "      <td>4.9</td>\n",
       "    </tr>\n",
       "    <tr>\n",
       "      <th>8</th>\n",
       "      <td>Dav Pilkey</td>\n",
       "      <td>4.9</td>\n",
       "    </tr>\n",
       "    <tr>\n",
       "      <th>9</th>\n",
       "      <td>Alice Schertle</td>\n",
       "      <td>4.9</td>\n",
       "    </tr>\n",
       "  </tbody>\n",
       "</table>\n",
       "</div>"
      ],
      "text/plain": [
       "               author  user_rating\n",
       "0      Nathan W. Pyle          4.9\n",
       "1     Bill Martin Jr.          4.9\n",
       "2          Jill Twiss          4.9\n",
       "3       Rush Limbaugh          4.9\n",
       "4          Pete Souza          4.9\n",
       "5         Sarah Young          4.9\n",
       "6  Lin-Manuel Miranda          4.9\n",
       "7      Patrick Thorpe          4.9\n",
       "8          Dav Pilkey          4.9\n",
       "9      Alice Schertle          4.9"
      ]
     },
     "execution_count": 209,
     "metadata": {},
     "output_type": "execute_result"
    }
   ],
   "source": [
    "top_10_authors"
   ]
  },
  {
   "cell_type": "code",
   "execution_count": 208,
   "id": "87f898d2",
   "metadata": {},
   "outputs": [],
   "source": [
    "#Number of books written by authors"
   ]
  },
  {
   "cell_type": "code",
   "execution_count": 205,
   "id": "fce3160f",
   "metadata": {},
   "outputs": [],
   "source": [
    "number_of_books_written = df.groupby('author')[['name']].count().sort_values('name', ascending=False).head(10).reset_index()"
   ]
  },
  {
   "cell_type": "code",
   "execution_count": 215,
   "id": "66d5db41",
   "metadata": {
    "scrolled": false
   },
   "outputs": [
    {
     "data": {
      "text/html": [
       "<div>\n",
       "<style scoped>\n",
       "    .dataframe tbody tr th:only-of-type {\n",
       "        vertical-align: middle;\n",
       "    }\n",
       "\n",
       "    .dataframe tbody tr th {\n",
       "        vertical-align: top;\n",
       "    }\n",
       "\n",
       "    .dataframe thead th {\n",
       "        text-align: right;\n",
       "    }\n",
       "</style>\n",
       "<table border=\"1\" class=\"dataframe\">\n",
       "  <thead>\n",
       "    <tr style=\"text-align: right;\">\n",
       "      <th></th>\n",
       "      <th>author</th>\n",
       "      <th>name</th>\n",
       "    </tr>\n",
       "  </thead>\n",
       "  <tbody>\n",
       "    <tr>\n",
       "      <th>0</th>\n",
       "      <td>Jeff Kinney</td>\n",
       "      <td>12</td>\n",
       "    </tr>\n",
       "    <tr>\n",
       "      <th>1</th>\n",
       "      <td>Rick Riordan</td>\n",
       "      <td>10</td>\n",
       "    </tr>\n",
       "    <tr>\n",
       "      <th>2</th>\n",
       "      <td>J.K. Rowling</td>\n",
       "      <td>8</td>\n",
       "    </tr>\n",
       "    <tr>\n",
       "      <th>3</th>\n",
       "      <td>Stephenie Meyer</td>\n",
       "      <td>7</td>\n",
       "    </tr>\n",
       "    <tr>\n",
       "      <th>4</th>\n",
       "      <td>Dav Pilkey</td>\n",
       "      <td>6</td>\n",
       "    </tr>\n",
       "    <tr>\n",
       "      <th>5</th>\n",
       "      <td>Bill O'Reilly</td>\n",
       "      <td>6</td>\n",
       "    </tr>\n",
       "    <tr>\n",
       "      <th>6</th>\n",
       "      <td>John Grisham</td>\n",
       "      <td>5</td>\n",
       "    </tr>\n",
       "    <tr>\n",
       "      <th>7</th>\n",
       "      <td>E L James</td>\n",
       "      <td>5</td>\n",
       "    </tr>\n",
       "    <tr>\n",
       "      <th>8</th>\n",
       "      <td>Suzanne Collins</td>\n",
       "      <td>5</td>\n",
       "    </tr>\n",
       "    <tr>\n",
       "      <th>9</th>\n",
       "      <td>Charlaine Harris</td>\n",
       "      <td>4</td>\n",
       "    </tr>\n",
       "  </tbody>\n",
       "</table>\n",
       "</div>"
      ],
      "text/plain": [
       "             author  name\n",
       "0       Jeff Kinney    12\n",
       "1      Rick Riordan    10\n",
       "2      J.K. Rowling     8\n",
       "3   Stephenie Meyer     7\n",
       "4        Dav Pilkey     6\n",
       "5     Bill O'Reilly     6\n",
       "6      John Grisham     5\n",
       "7         E L James     5\n",
       "8   Suzanne Collins     5\n",
       "9  Charlaine Harris     4"
      ]
     },
     "execution_count": 215,
     "metadata": {},
     "output_type": "execute_result"
    }
   ],
   "source": [
    "number_of_books_written"
   ]
  },
  {
   "cell_type": "code",
   "execution_count": 216,
   "id": "fdfd9404",
   "metadata": {},
   "outputs": [],
   "source": [
    "#Number of books in each genre"
   ]
  },
  {
   "cell_type": "code",
   "execution_count": 217,
   "id": "98ac7bb4",
   "metadata": {},
   "outputs": [],
   "source": [
    "number_of_books_by_genre = df.groupby('genre')[['name']].count().sort_values('name', ascending=False).head(10).reset_index()"
   ]
  },
  {
   "cell_type": "code",
   "execution_count": 218,
   "id": "1e985d2b",
   "metadata": {},
   "outputs": [
    {
     "data": {
      "text/html": [
       "<div>\n",
       "<style scoped>\n",
       "    .dataframe tbody tr th:only-of-type {\n",
       "        vertical-align: middle;\n",
       "    }\n",
       "\n",
       "    .dataframe tbody tr th {\n",
       "        vertical-align: top;\n",
       "    }\n",
       "\n",
       "    .dataframe thead th {\n",
       "        text-align: right;\n",
       "    }\n",
       "</style>\n",
       "<table border=\"1\" class=\"dataframe\">\n",
       "  <thead>\n",
       "    <tr style=\"text-align: right;\">\n",
       "      <th></th>\n",
       "      <th>genre</th>\n",
       "      <th>name</th>\n",
       "    </tr>\n",
       "  </thead>\n",
       "  <tbody>\n",
       "    <tr>\n",
       "      <th>0</th>\n",
       "      <td>Non Fiction</td>\n",
       "      <td>190</td>\n",
       "    </tr>\n",
       "    <tr>\n",
       "      <th>1</th>\n",
       "      <td>Fiction</td>\n",
       "      <td>160</td>\n",
       "    </tr>\n",
       "  </tbody>\n",
       "</table>\n",
       "</div>"
      ],
      "text/plain": [
       "         genre  name\n",
       "0  Non Fiction   190\n",
       "1      Fiction   160"
      ]
     },
     "execution_count": 218,
     "metadata": {},
     "output_type": "execute_result"
    }
   ],
   "source": [
    "number_of_books_by_genre "
   ]
  },
  {
   "cell_type": "code",
   "execution_count": null,
   "id": "79d43e8f",
   "metadata": {},
   "outputs": [],
   "source": []
  },
  {
   "cell_type": "code",
   "execution_count": null,
   "id": "fbc841f3",
   "metadata": {},
   "outputs": [],
   "source": []
  }
 ],
 "metadata": {
  "kernelspec": {
   "display_name": "Python 3 (ipykernel)",
   "language": "python",
   "name": "python3"
  },
  "language_info": {
   "codemirror_mode": {
    "name": "ipython",
    "version": 3
   },
   "file_extension": ".py",
   "mimetype": "text/x-python",
   "name": "python",
   "nbconvert_exporter": "python",
   "pygments_lexer": "ipython3",
   "version": "3.8.12"
  }
 },
 "nbformat": 4,
 "nbformat_minor": 5
}
