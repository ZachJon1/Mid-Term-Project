{
 "cells": [
  {
   "cell_type": "code",
   "execution_count": 56,
   "id": "8544a3a4",
   "metadata": {},
   "outputs": [],
   "source": [
    "import requests"
   ]
  },
  {
   "cell_type": "code",
   "execution_count": 57,
   "id": "d1c727fd",
   "metadata": {},
   "outputs": [],
   "source": [
    "url = 'http://localhost:9696/predict'"
   ]
  },
  {
   "cell_type": "code",
   "execution_count": 58,
   "id": "064a4e60",
   "metadata": {},
   "outputs": [],
   "source": [
    "info = {\"name\": \"Humans Of New York\",\n",
    "  \"author\": \"Brandon Stanton\",\n",
    "  \"reviews\": 3490,\n",
    "  \"price\": 15,\n",
    "  \"genre\": \"Non Fiction\"}   "
   ]
  },
  {
   "cell_type": "code",
   "execution_count": 59,
   "id": "5f6c78ea",
   "metadata": {},
   "outputs": [
    {
     "data": {
      "text/plain": [
       "{'Book rating': 4.766039149290736}"
      ]
     },
     "execution_count": 59,
     "metadata": {},
     "output_type": "execute_result"
    }
   ],
   "source": [
    "response = requests.post(url, json=info).json()\n",
    "response"
   ]
  },
  {
   "cell_type": "code",
   "execution_count": null,
   "id": "686b4783",
   "metadata": {},
   "outputs": [],
   "source": []
  }
 ],
 "metadata": {
  "kernelspec": {
   "display_name": "Python 3 (ipykernel)",
   "language": "python",
   "name": "python3"
  },
  "language_info": {
   "codemirror_mode": {
    "name": "ipython",
    "version": 3
   },
   "file_extension": ".py",
   "mimetype": "text/x-python",
   "name": "python",
   "nbconvert_exporter": "python",
   "pygments_lexer": "ipython3",
   "version": "3.8.12"
  }
 },
 "nbformat": 4,
 "nbformat_minor": 5
}
